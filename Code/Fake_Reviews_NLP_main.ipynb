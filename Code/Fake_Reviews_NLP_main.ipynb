{
  "nbformat": 4,
  "nbformat_minor": 0,
  "metadata": {
    "colab": {
      "provenance": [],
      "collapsed_sections": [
        "iyKqVUrx_mST",
        "qMWS9CvEB9ay",
        "btePEqP9GU2-",
        "sRstV1FvOpIo",
        "iJwhUbNTPRQk",
        "mMwv_F64xo5m",
        "E7qKldBatAHi",
        "Ctjwb9p0Td78",
        "m2og_qIqVjJF"
      ]
    },
    "kernelspec": {
      "name": "python3",
      "display_name": "Python 3"
    },
    "language_info": {
      "name": "python"
    }
  },
  "cells": [
    {
      "cell_type": "markdown",
      "source": [
        "## Imports:"
      ],
      "metadata": {
        "id": "iyKqVUrx_mST"
      }
    },
    {
      "cell_type": "code",
      "execution_count": 2,
      "metadata": {
        "id": "S4Snb4myH-Dw"
      },
      "outputs": [],
      "source": [
        "import pandas as pd\n",
        "import seaborn as sns\n",
        "import matplotlib.pyplot as plt\n",
        "import numpy as np\n",
        "import tensorflow as tf\n",
        "import keras\n",
        "\n",
        "from sklearn.model_selection import train_test_split\n",
        "from sklearn.metrics import confusion_matrix\n",
        "from sklearn.metrics import accuracy_score\n",
        "from sklearn.neighbors import KNeighborsClassifier\n",
        "from sklearn.svm import SVC\n",
        "from sklearn.linear_model import LogisticRegression\n",
        "from sklearn.tree import DecisionTreeClassifier\n",
        "from sklearn.ensemble import RandomForestClassifier\n"
      ]
    },
    {
      "cell_type": "code",
      "source": [
        "dataframe = pd.read_csv(\"amazon_reviews_labelled1.csv\")\n",
        "dataframe.head(5)"
      ],
      "metadata": {
        "colab": {
          "base_uri": "https://localhost:8080/",
          "height": 0
        },
        "id": "YiK0vvUN-MCa",
        "outputId": "78495b1b-18b6-4aab-ba53-e73025a96929"
      },
      "execution_count": 3,
      "outputs": [
        {
          "output_type": "execute_result",
          "data": {
            "text/plain": [
              "   Unnamed: 0.4  Unnamed: 0.3  Unnamed: 0.2  Unnamed: 0.1  Unnamed: 0  RATING  \\\n",
              "0             0             0             0             0           0       4   \n",
              "1             1             1             1             1           1       4   \n",
              "2             2             2             2             2           2       3   \n",
              "3             3             3             3             3           3       4   \n",
              "4             4             4             4             4           4       4   \n",
              "\n",
              "   VERIFIED_PURCHASE              REVIEW_TITLE  \\\n",
              "0                  0                    useful   \n",
              "1                  1     New era for batteries   \n",
              "2                  0  doesn't swing very well.   \n",
              "3                  0          Great computing!   \n",
              "4                  0     Only use twice a week   \n",
              "\n",
              "                                         REVIEW_TEXT  NUM_NOUNS  ...  \\\n",
              "0         think so product save day case need someth          4  ...   \n",
              "1  lithium batteri new introduc market averag dev...         15  ...   \n",
              "2  purchas swing babi 6 month pretti grow -pron- ...          7  ...   \n",
              "3  look inexpen desk calcolatur be work ne issu t...          8  ...   \n",
              "4  use twice week result great tooth whiten solut...         14  ...   \n",
              "\n",
              "   WORD_COUNT  SENTIMENT_SCORE_TITLE  SENTIMENT_LABEL_TITLE  \\\n",
              "0           8                 0.4404                      1   \n",
              "1          37                 0.0000                      0   \n",
              "2          24                -0.2572                      0   \n",
              "3          17                 0.6588                      1   \n",
              "4          20                 0.0000                      0   \n",
              "\n",
              "   AVG_RATING_VERIFIED  AVG_RATING_NON_VERIFIED  DEVIATION_VERIFIED  \\\n",
              "0             4.243802                 3.982262            0.243802   \n",
              "1             4.243802                 3.982262            0.243802   \n",
              "2             4.243802                 3.982262            1.243802   \n",
              "3             4.243802                 3.982262            0.243802   \n",
              "4             4.243802                 3.982262            0.243802   \n",
              "\n",
              "   DEVIATION_NON_VERIFIED  Unnamed: 36  Unnamed: 37  Unnamed: 38  \n",
              "0                0.017738          NaN          NaN          NaN  \n",
              "1                0.017738          NaN          NaN          NaN  \n",
              "2                0.982262          NaN          NaN          NaN  \n",
              "3                0.017738          NaN          NaN          NaN  \n",
              "4                0.017738          NaN          NaN          NaN  \n",
              "\n",
              "[5 rows x 39 columns]"
            ],
            "text/html": [
              "\n",
              "\n",
              "  <div id=\"df-27301206-2930-43f3-aa27-4dd2ddb6e422\">\n",
              "    <div class=\"colab-df-container\">\n",
              "      <div>\n",
              "<style scoped>\n",
              "    .dataframe tbody tr th:only-of-type {\n",
              "        vertical-align: middle;\n",
              "    }\n",
              "\n",
              "    .dataframe tbody tr th {\n",
              "        vertical-align: top;\n",
              "    }\n",
              "\n",
              "    .dataframe thead th {\n",
              "        text-align: right;\n",
              "    }\n",
              "</style>\n",
              "<table border=\"1\" class=\"dataframe\">\n",
              "  <thead>\n",
              "    <tr style=\"text-align: right;\">\n",
              "      <th></th>\n",
              "      <th>Unnamed: 0.4</th>\n",
              "      <th>Unnamed: 0.3</th>\n",
              "      <th>Unnamed: 0.2</th>\n",
              "      <th>Unnamed: 0.1</th>\n",
              "      <th>Unnamed: 0</th>\n",
              "      <th>RATING</th>\n",
              "      <th>VERIFIED_PURCHASE</th>\n",
              "      <th>REVIEW_TITLE</th>\n",
              "      <th>REVIEW_TEXT</th>\n",
              "      <th>NUM_NOUNS</th>\n",
              "      <th>...</th>\n",
              "      <th>WORD_COUNT</th>\n",
              "      <th>SENTIMENT_SCORE_TITLE</th>\n",
              "      <th>SENTIMENT_LABEL_TITLE</th>\n",
              "      <th>AVG_RATING_VERIFIED</th>\n",
              "      <th>AVG_RATING_NON_VERIFIED</th>\n",
              "      <th>DEVIATION_VERIFIED</th>\n",
              "      <th>DEVIATION_NON_VERIFIED</th>\n",
              "      <th>Unnamed: 36</th>\n",
              "      <th>Unnamed: 37</th>\n",
              "      <th>Unnamed: 38</th>\n",
              "    </tr>\n",
              "  </thead>\n",
              "  <tbody>\n",
              "    <tr>\n",
              "      <th>0</th>\n",
              "      <td>0</td>\n",
              "      <td>0</td>\n",
              "      <td>0</td>\n",
              "      <td>0</td>\n",
              "      <td>0</td>\n",
              "      <td>4</td>\n",
              "      <td>0</td>\n",
              "      <td>useful</td>\n",
              "      <td>think so product save day case need someth</td>\n",
              "      <td>4</td>\n",
              "      <td>...</td>\n",
              "      <td>8</td>\n",
              "      <td>0.4404</td>\n",
              "      <td>1</td>\n",
              "      <td>4.243802</td>\n",
              "      <td>3.982262</td>\n",
              "      <td>0.243802</td>\n",
              "      <td>0.017738</td>\n",
              "      <td>NaN</td>\n",
              "      <td>NaN</td>\n",
              "      <td>NaN</td>\n",
              "    </tr>\n",
              "    <tr>\n",
              "      <th>1</th>\n",
              "      <td>1</td>\n",
              "      <td>1</td>\n",
              "      <td>1</td>\n",
              "      <td>1</td>\n",
              "      <td>1</td>\n",
              "      <td>4</td>\n",
              "      <td>1</td>\n",
              "      <td>New era for batteries</td>\n",
              "      <td>lithium batteri new introduc market averag dev...</td>\n",
              "      <td>15</td>\n",
              "      <td>...</td>\n",
              "      <td>37</td>\n",
              "      <td>0.0000</td>\n",
              "      <td>0</td>\n",
              "      <td>4.243802</td>\n",
              "      <td>3.982262</td>\n",
              "      <td>0.243802</td>\n",
              "      <td>0.017738</td>\n",
              "      <td>NaN</td>\n",
              "      <td>NaN</td>\n",
              "      <td>NaN</td>\n",
              "    </tr>\n",
              "    <tr>\n",
              "      <th>2</th>\n",
              "      <td>2</td>\n",
              "      <td>2</td>\n",
              "      <td>2</td>\n",
              "      <td>2</td>\n",
              "      <td>2</td>\n",
              "      <td>3</td>\n",
              "      <td>0</td>\n",
              "      <td>doesn't swing very well.</td>\n",
              "      <td>purchas swing babi 6 month pretti grow -pron- ...</td>\n",
              "      <td>7</td>\n",
              "      <td>...</td>\n",
              "      <td>24</td>\n",
              "      <td>-0.2572</td>\n",
              "      <td>0</td>\n",
              "      <td>4.243802</td>\n",
              "      <td>3.982262</td>\n",
              "      <td>1.243802</td>\n",
              "      <td>0.982262</td>\n",
              "      <td>NaN</td>\n",
              "      <td>NaN</td>\n",
              "      <td>NaN</td>\n",
              "    </tr>\n",
              "    <tr>\n",
              "      <th>3</th>\n",
              "      <td>3</td>\n",
              "      <td>3</td>\n",
              "      <td>3</td>\n",
              "      <td>3</td>\n",
              "      <td>3</td>\n",
              "      <td>4</td>\n",
              "      <td>0</td>\n",
              "      <td>Great computing!</td>\n",
              "      <td>look inexpen desk calcolatur be work ne issu t...</td>\n",
              "      <td>8</td>\n",
              "      <td>...</td>\n",
              "      <td>17</td>\n",
              "      <td>0.6588</td>\n",
              "      <td>1</td>\n",
              "      <td>4.243802</td>\n",
              "      <td>3.982262</td>\n",
              "      <td>0.243802</td>\n",
              "      <td>0.017738</td>\n",
              "      <td>NaN</td>\n",
              "      <td>NaN</td>\n",
              "      <td>NaN</td>\n",
              "    </tr>\n",
              "    <tr>\n",
              "      <th>4</th>\n",
              "      <td>4</td>\n",
              "      <td>4</td>\n",
              "      <td>4</td>\n",
              "      <td>4</td>\n",
              "      <td>4</td>\n",
              "      <td>4</td>\n",
              "      <td>0</td>\n",
              "      <td>Only use twice a week</td>\n",
              "      <td>use twice week result great tooth whiten solut...</td>\n",
              "      <td>14</td>\n",
              "      <td>...</td>\n",
              "      <td>20</td>\n",
              "      <td>0.0000</td>\n",
              "      <td>0</td>\n",
              "      <td>4.243802</td>\n",
              "      <td>3.982262</td>\n",
              "      <td>0.243802</td>\n",
              "      <td>0.017738</td>\n",
              "      <td>NaN</td>\n",
              "      <td>NaN</td>\n",
              "      <td>NaN</td>\n",
              "    </tr>\n",
              "  </tbody>\n",
              "</table>\n",
              "<p>5 rows × 39 columns</p>\n",
              "</div>\n",
              "      <button class=\"colab-df-convert\" onclick=\"convertToInteractive('df-27301206-2930-43f3-aa27-4dd2ddb6e422')\"\n",
              "              title=\"Convert this dataframe to an interactive table.\"\n",
              "              style=\"display:none;\">\n",
              "\n",
              "  <svg xmlns=\"http://www.w3.org/2000/svg\" height=\"24px\"viewBox=\"0 0 24 24\"\n",
              "       width=\"24px\">\n",
              "    <path d=\"M0 0h24v24H0V0z\" fill=\"none\"/>\n",
              "    <path d=\"M18.56 5.44l.94 2.06.94-2.06 2.06-.94-2.06-.94-.94-2.06-.94 2.06-2.06.94zm-11 1L8.5 8.5l.94-2.06 2.06-.94-2.06-.94L8.5 2.5l-.94 2.06-2.06.94zm10 10l.94 2.06.94-2.06 2.06-.94-2.06-.94-.94-2.06-.94 2.06-2.06.94z\"/><path d=\"M17.41 7.96l-1.37-1.37c-.4-.4-.92-.59-1.43-.59-.52 0-1.04.2-1.43.59L10.3 9.45l-7.72 7.72c-.78.78-.78 2.05 0 2.83L4 21.41c.39.39.9.59 1.41.59.51 0 1.02-.2 1.41-.59l7.78-7.78 2.81-2.81c.8-.78.8-2.07 0-2.86zM5.41 20L4 18.59l7.72-7.72 1.47 1.35L5.41 20z\"/>\n",
              "  </svg>\n",
              "      </button>\n",
              "\n",
              "\n",
              "\n",
              "    <div id=\"df-4f6ea76e-be8e-400b-bc20-8c25894930a7\">\n",
              "      <button class=\"colab-df-quickchart\" onclick=\"quickchart('df-4f6ea76e-be8e-400b-bc20-8c25894930a7')\"\n",
              "              title=\"Suggest charts.\"\n",
              "              style=\"display:none;\">\n",
              "\n",
              "<svg xmlns=\"http://www.w3.org/2000/svg\" height=\"24px\"viewBox=\"0 0 24 24\"\n",
              "     width=\"24px\">\n",
              "    <g>\n",
              "        <path d=\"M19 3H5c-1.1 0-2 .9-2 2v14c0 1.1.9 2 2 2h14c1.1 0 2-.9 2-2V5c0-1.1-.9-2-2-2zM9 17H7v-7h2v7zm4 0h-2V7h2v10zm4 0h-2v-4h2v4z\"/>\n",
              "    </g>\n",
              "</svg>\n",
              "      </button>\n",
              "    </div>\n",
              "\n",
              "<style>\n",
              "  .colab-df-quickchart {\n",
              "    background-color: #E8F0FE;\n",
              "    border: none;\n",
              "    border-radius: 50%;\n",
              "    cursor: pointer;\n",
              "    display: none;\n",
              "    fill: #1967D2;\n",
              "    height: 32px;\n",
              "    padding: 0 0 0 0;\n",
              "    width: 32px;\n",
              "  }\n",
              "\n",
              "  .colab-df-quickchart:hover {\n",
              "    background-color: #E2EBFA;\n",
              "    box-shadow: 0px 1px 2px rgba(60, 64, 67, 0.3), 0px 1px 3px 1px rgba(60, 64, 67, 0.15);\n",
              "    fill: #174EA6;\n",
              "  }\n",
              "\n",
              "  [theme=dark] .colab-df-quickchart {\n",
              "    background-color: #3B4455;\n",
              "    fill: #D2E3FC;\n",
              "  }\n",
              "\n",
              "  [theme=dark] .colab-df-quickchart:hover {\n",
              "    background-color: #434B5C;\n",
              "    box-shadow: 0px 1px 3px 1px rgba(0, 0, 0, 0.15);\n",
              "    filter: drop-shadow(0px 1px 2px rgba(0, 0, 0, 0.3));\n",
              "    fill: #FFFFFF;\n",
              "  }\n",
              "</style>\n",
              "\n",
              "    <script>\n",
              "      async function quickchart(key) {\n",
              "        const containerElement = document.querySelector('#' + key);\n",
              "        const charts = await google.colab.kernel.invokeFunction(\n",
              "            'suggestCharts', [key], {});\n",
              "      }\n",
              "    </script>\n",
              "\n",
              "      <script>\n",
              "\n",
              "function displayQuickchartButton(domScope) {\n",
              "  let quickchartButtonEl =\n",
              "    domScope.querySelector('#df-4f6ea76e-be8e-400b-bc20-8c25894930a7 button.colab-df-quickchart');\n",
              "  quickchartButtonEl.style.display =\n",
              "    google.colab.kernel.accessAllowed ? 'block' : 'none';\n",
              "}\n",
              "\n",
              "        displayQuickchartButton(document);\n",
              "      </script>\n",
              "      <style>\n",
              "    .colab-df-container {\n",
              "      display:flex;\n",
              "      flex-wrap:wrap;\n",
              "      gap: 12px;\n",
              "    }\n",
              "\n",
              "    .colab-df-convert {\n",
              "      background-color: #E8F0FE;\n",
              "      border: none;\n",
              "      border-radius: 50%;\n",
              "      cursor: pointer;\n",
              "      display: none;\n",
              "      fill: #1967D2;\n",
              "      height: 32px;\n",
              "      padding: 0 0 0 0;\n",
              "      width: 32px;\n",
              "    }\n",
              "\n",
              "    .colab-df-convert:hover {\n",
              "      background-color: #E2EBFA;\n",
              "      box-shadow: 0px 1px 2px rgba(60, 64, 67, 0.3), 0px 1px 3px 1px rgba(60, 64, 67, 0.15);\n",
              "      fill: #174EA6;\n",
              "    }\n",
              "\n",
              "    [theme=dark] .colab-df-convert {\n",
              "      background-color: #3B4455;\n",
              "      fill: #D2E3FC;\n",
              "    }\n",
              "\n",
              "    [theme=dark] .colab-df-convert:hover {\n",
              "      background-color: #434B5C;\n",
              "      box-shadow: 0px 1px 3px 1px rgba(0, 0, 0, 0.15);\n",
              "      filter: drop-shadow(0px 1px 2px rgba(0, 0, 0, 0.3));\n",
              "      fill: #FFFFFF;\n",
              "    }\n",
              "  </style>\n",
              "\n",
              "      <script>\n",
              "        const buttonEl =\n",
              "          document.querySelector('#df-27301206-2930-43f3-aa27-4dd2ddb6e422 button.colab-df-convert');\n",
              "        buttonEl.style.display =\n",
              "          google.colab.kernel.accessAllowed ? 'block' : 'none';\n",
              "\n",
              "        async function convertToInteractive(key) {\n",
              "          const element = document.querySelector('#df-27301206-2930-43f3-aa27-4dd2ddb6e422');\n",
              "          const dataTable =\n",
              "            await google.colab.kernel.invokeFunction('convertToInteractive',\n",
              "                                                     [key], {});\n",
              "          if (!dataTable) return;\n",
              "\n",
              "          const docLinkHtml = 'Like what you see? Visit the ' +\n",
              "            '<a target=\"_blank\" href=https://colab.research.google.com/notebooks/data_table.ipynb>data table notebook</a>'\n",
              "            + ' to learn more about interactive tables.';\n",
              "          element.innerHTML = '';\n",
              "          dataTable['output_type'] = 'display_data';\n",
              "          await google.colab.output.renderOutput(dataTable, element);\n",
              "          const docLink = document.createElement('div');\n",
              "          docLink.innerHTML = docLinkHtml;\n",
              "          element.appendChild(docLink);\n",
              "        }\n",
              "      </script>\n",
              "    </div>\n",
              "  </div>\n"
            ]
          },
          "metadata": {},
          "execution_count": 3
        }
      ]
    },
    {
      "cell_type": "markdown",
      "source": [
        "## Data Cleaning:"
      ],
      "metadata": {
        "id": "P95NEr1a_ihS"
      }
    },
    {
      "cell_type": "code",
      "source": [
        "dataframe.isnull().sum()"
      ],
      "metadata": {
        "colab": {
          "base_uri": "https://localhost:8080/"
        },
        "id": "TKzIrkFb_Fo8",
        "outputId": "17299244-ff5c-4a9f-d6c1-115fbf8f184a"
      },
      "execution_count": 9,
      "outputs": [
        {
          "output_type": "execute_result",
          "data": {
            "text/plain": [
              "Unnamed: 0.4                      0\n",
              "Unnamed: 0.3                      0\n",
              "Unnamed: 0.2                      0\n",
              "Unnamed: 0.1                      0\n",
              "Unnamed: 0                        0\n",
              "RATING                            0\n",
              "VERIFIED_PURCHASE                 0\n",
              "REVIEW_TITLE                      0\n",
              "REVIEW_TEXT                       0\n",
              "NUM_NOUNS                         0\n",
              "NUM_VERBS                         0\n",
              "NUM_ADJECTIVES                    0\n",
              "NUM_ADVERBS                       0\n",
              "REVIEW_LENGTH                     0\n",
              "SENTIMENT_SCORE                   0\n",
              "TITLE_LENGTH                      0\n",
              "AVERAGE_RATING                    0\n",
              "RATING_DEVIATION                  0\n",
              "NUM_REVIEWS                       0\n",
              "READABILITY_FRE                   0\n",
              "SENTIMENT_CATEGORY_ENCODED        0\n",
              "RATING_CATEGORY_ENCODED           0\n",
              "COHERENT_ENCODED                  0\n",
              "AVG_WORD_LENGTH                   0\n",
              "LABEL_ENCODED                     0\n",
              "NUM_NAMED_ENTITIES                0\n",
              "CAPITAL_CHAR_COUNT                0\n",
              "PUNCTUATION_COUNT                 0\n",
              "PREPROCESSED_REVIEW_TEXT          0\n",
              "WORD_COUNT                        0\n",
              "SENTIMENT_SCORE_TITLE             0\n",
              "SENTIMENT_LABEL_TITLE             0\n",
              "AVG_RATING_VERIFIED               0\n",
              "AVG_RATING_NON_VERIFIED           0\n",
              "DEVIATION_VERIFIED                0\n",
              "DEVIATION_NON_VERIFIED            0\n",
              "Unnamed: 36                   21000\n",
              "Unnamed: 37                   21000\n",
              "Unnamed: 38                   21000\n",
              "dtype: int64"
            ]
          },
          "metadata": {},
          "execution_count": 9
        }
      ]
    },
    {
      "cell_type": "code",
      "source": [
        "columns_to_drop = [\n",
        "    'Unnamed: 0.4',\n",
        "    'Unnamed: 0.3',\n",
        "    'Unnamed: 0.2',\n",
        "    'Unnamed: 0.1',\n",
        "    'Unnamed: 0',\n",
        "    'AVERAGE_RATING',\n",
        "    'RATING_DEVIATION',\n",
        "    'READABILITY_FRE',\n",
        "    'COHERENT_ENCODED',\n",
        "    'AVG_WORD_LENGTH',\n",
        "    'NUM_NAMED_ENTITIES',\n",
        "    'AVG_RATING_VERIFIED',\n",
        "    'AVG_RATING_NON_VERIFIED',\n",
        "    'DEVIATION_VERIFIED',\n",
        "    'DEVIATION_NON_VERIFIED',\n",
        "    'CAPITAL_CHAR_COUNT',\n",
        "    'PUNCTUATION_COUNT',\n",
        "    'Unnamed: 36',\n",
        "    'Unnamed: 37',\n",
        "    'Unnamed: 38',\n",
        "    'SENTIMENT_SCORE_TITLE',\n",
        "    'SENTIMENT_LABEL_TITLE'\n",
        "]\n",
        "\n",
        "dataframe = dataframe.drop(columns = columns_to_drop)\n"
      ],
      "metadata": {
        "id": "4xK9rpdYCDOS"
      },
      "execution_count": 10,
      "outputs": []
    },
    {
      "cell_type": "markdown",
      "source": [
        "##Data Processing:"
      ],
      "metadata": {
        "id": "qMWS9CvEB9ay"
      }
    },
    {
      "cell_type": "code",
      "source": [
        "dataframe['PROP_NOUNS'] = dataframe['NUM_NOUNS'] / dataframe['WORD_COUNT']\n",
        "dataframe['PROP_VERBS'] = dataframe['NUM_VERBS'] / dataframe['WORD_COUNT']\n",
        "dataframe['PROP_ADJECTIVES'] = dataframe['NUM_ADJECTIVES'] / dataframe['WORD_COUNT']\n",
        "dataframe['PROP_ADVERBS'] = dataframe['NUM_ADVERBS'] / dataframe['WORD_COUNT']\n",
        "\n",
        "dataframe = dataframe.drop(['NUM_NOUNS'], axis=1)\n",
        "dataframe = dataframe.drop(['NUM_VERBS'], axis=1)\n",
        "dataframe = dataframe.drop(['NUM_ADJECTIVES'], axis=1)\n",
        "dataframe = dataframe.drop(['NUM_ADVERBS'], axis=1)"
      ],
      "metadata": {
        "id": "Shlx7P0J_hLM"
      },
      "execution_count": 4,
      "outputs": []
    },
    {
      "cell_type": "code",
      "source": [
        "dataframe"
      ],
      "metadata": {
        "colab": {
          "base_uri": "https://localhost:8080/",
          "height": 0
        },
        "id": "u2eubfWoUDaC",
        "outputId": "131b40a4-204a-4acf-e8e6-19636f8b1278"
      },
      "execution_count": 5,
      "outputs": [
        {
          "output_type": "execute_result",
          "data": {
            "text/plain": [
              "       Unnamed: 0.4  Unnamed: 0.3  Unnamed: 0.2  Unnamed: 0.1  Unnamed: 0  \\\n",
              "0                 0             0             0             0           0   \n",
              "1                 1             1             1             1           1   \n",
              "2                 2             2             2             2           2   \n",
              "3                 3             3             3             3           3   \n",
              "4                 4             4             4             4           4   \n",
              "...             ...           ...           ...           ...         ...   \n",
              "20995         20995         20995         20995         20995       20995   \n",
              "20996         20996         20996         20996         20996       20996   \n",
              "20997         20997         20997         20997         20997       20997   \n",
              "20998         20998         20998         20998         20998       20998   \n",
              "20999         20999         20999         20999         20999       20999   \n",
              "\n",
              "       RATING  VERIFIED_PURCHASE  \\\n",
              "0           4                  0   \n",
              "1           4                  1   \n",
              "2           3                  0   \n",
              "3           4                  0   \n",
              "4           4                  0   \n",
              "...       ...                ...   \n",
              "20995       4                  1   \n",
              "20996       4                  1   \n",
              "20997       5                  1   \n",
              "20998       5                  1   \n",
              "20999       4                  1   \n",
              "\n",
              "                                            REVIEW_TITLE  \\\n",
              "0                                                 useful   \n",
              "1                                  New era for batteries   \n",
              "2                               doesn't swing very well.   \n",
              "3                                       Great computing!   \n",
              "4                                  Only use twice a week   \n",
              "...                                                  ...   \n",
              "20995                               wide width is great!   \n",
              "20996                                        Love crocs!   \n",
              "20997  I love moccasins This fit like it was custom m...   \n",
              "20998        This fit well, comfortable, best investment   \n",
              "20999             Love these shoes, except for the laces   \n",
              "\n",
              "                                             REVIEW_TEXT  REVIEW_LENGTH  ...  \\\n",
              "0             think so product save day case need someth            116  ...   \n",
              "1      lithium batteri new introduc market averag dev...            404  ...   \n",
              "2      purchas swing babi 6 month pretti grow -pron- ...            248  ...   \n",
              "3      look inexpen desk calcolatur be work ne issu t...            212  ...   \n",
              "4      use twice week result great tooth whiten solut...            331  ...   \n",
              "...                                                  ...            ...  ...   \n",
              "20995      buy work high arch use arch support heel high            100  ...   \n",
              "20996  croc brand shoe foot day work love cross unise...            115  ...   \n",
              "20997  love moccasin fit like custom mebr veri soft c...            297  ...   \n",
              "20998  wish littl durabl get catch bolt cross bunk fe...            287  ...   \n",
              "20999                                             #NAME?            742  ...   \n",
              "\n",
              "       AVG_RATING_NON_VERIFIED  DEVIATION_VERIFIED  DEVIATION_NON_VERIFIED  \\\n",
              "0                     3.982262            0.243802                0.017738   \n",
              "1                     3.982262            0.243802                0.017738   \n",
              "2                     3.982262            1.243802                0.982262   \n",
              "3                     3.982262            0.243802                0.017738   \n",
              "4                     3.982262            0.243802                0.017738   \n",
              "...                        ...                 ...                     ...   \n",
              "20995                 3.982262            0.243802                0.017738   \n",
              "20996                 3.982262            0.243802                0.017738   \n",
              "20997                 3.982262            0.756198                1.017738   \n",
              "20998                 3.982262            0.756198                1.017738   \n",
              "20999                 3.982262            0.243802                0.017738   \n",
              "\n",
              "       Unnamed: 36  Unnamed: 37  Unnamed: 38  PROP_NOUNS  PROP_VERBS  \\\n",
              "0              NaN          NaN          NaN    0.500000    0.625000   \n",
              "1              NaN          NaN          NaN    0.405405    0.405405   \n",
              "2              NaN          NaN          NaN    0.291667    0.541667   \n",
              "3              NaN          NaN          NaN    0.470588    0.588235   \n",
              "4              NaN          NaN          NaN    0.700000    0.600000   \n",
              "...            ...          ...          ...         ...         ...   \n",
              "20995          NaN          NaN          NaN    0.444444    0.444444   \n",
              "20996          NaN          NaN          NaN    0.636364    0.363636   \n",
              "20997          NaN          NaN          NaN    0.320000    0.560000   \n",
              "20998          NaN          NaN          NaN    0.428571    0.464286   \n",
              "20999          NaN          NaN          NaN    0.318182    0.515152   \n",
              "\n",
              "       PROP_ADJECTIVES  PROP_ADVERBS  \n",
              "0             0.125000      0.625000  \n",
              "1             0.324324      0.135135  \n",
              "2             0.166667      0.416667  \n",
              "3             0.235294      0.294118  \n",
              "4             0.350000      0.200000  \n",
              "...                ...           ...  \n",
              "20995         0.333333      0.222222  \n",
              "20996         0.363636      0.090909  \n",
              "20997         0.240000      0.240000  \n",
              "20998         0.142857      0.035714  \n",
              "20999         0.151515      0.181818  \n",
              "\n",
              "[21000 rows x 39 columns]"
            ],
            "text/html": [
              "\n",
              "\n",
              "  <div id=\"df-28b70ad7-8c0b-481f-ba21-87004a75495c\">\n",
              "    <div class=\"colab-df-container\">\n",
              "      <div>\n",
              "<style scoped>\n",
              "    .dataframe tbody tr th:only-of-type {\n",
              "        vertical-align: middle;\n",
              "    }\n",
              "\n",
              "    .dataframe tbody tr th {\n",
              "        vertical-align: top;\n",
              "    }\n",
              "\n",
              "    .dataframe thead th {\n",
              "        text-align: right;\n",
              "    }\n",
              "</style>\n",
              "<table border=\"1\" class=\"dataframe\">\n",
              "  <thead>\n",
              "    <tr style=\"text-align: right;\">\n",
              "      <th></th>\n",
              "      <th>Unnamed: 0.4</th>\n",
              "      <th>Unnamed: 0.3</th>\n",
              "      <th>Unnamed: 0.2</th>\n",
              "      <th>Unnamed: 0.1</th>\n",
              "      <th>Unnamed: 0</th>\n",
              "      <th>RATING</th>\n",
              "      <th>VERIFIED_PURCHASE</th>\n",
              "      <th>REVIEW_TITLE</th>\n",
              "      <th>REVIEW_TEXT</th>\n",
              "      <th>REVIEW_LENGTH</th>\n",
              "      <th>...</th>\n",
              "      <th>AVG_RATING_NON_VERIFIED</th>\n",
              "      <th>DEVIATION_VERIFIED</th>\n",
              "      <th>DEVIATION_NON_VERIFIED</th>\n",
              "      <th>Unnamed: 36</th>\n",
              "      <th>Unnamed: 37</th>\n",
              "      <th>Unnamed: 38</th>\n",
              "      <th>PROP_NOUNS</th>\n",
              "      <th>PROP_VERBS</th>\n",
              "      <th>PROP_ADJECTIVES</th>\n",
              "      <th>PROP_ADVERBS</th>\n",
              "    </tr>\n",
              "  </thead>\n",
              "  <tbody>\n",
              "    <tr>\n",
              "      <th>0</th>\n",
              "      <td>0</td>\n",
              "      <td>0</td>\n",
              "      <td>0</td>\n",
              "      <td>0</td>\n",
              "      <td>0</td>\n",
              "      <td>4</td>\n",
              "      <td>0</td>\n",
              "      <td>useful</td>\n",
              "      <td>think so product save day case need someth</td>\n",
              "      <td>116</td>\n",
              "      <td>...</td>\n",
              "      <td>3.982262</td>\n",
              "      <td>0.243802</td>\n",
              "      <td>0.017738</td>\n",
              "      <td>NaN</td>\n",
              "      <td>NaN</td>\n",
              "      <td>NaN</td>\n",
              "      <td>0.500000</td>\n",
              "      <td>0.625000</td>\n",
              "      <td>0.125000</td>\n",
              "      <td>0.625000</td>\n",
              "    </tr>\n",
              "    <tr>\n",
              "      <th>1</th>\n",
              "      <td>1</td>\n",
              "      <td>1</td>\n",
              "      <td>1</td>\n",
              "      <td>1</td>\n",
              "      <td>1</td>\n",
              "      <td>4</td>\n",
              "      <td>1</td>\n",
              "      <td>New era for batteries</td>\n",
              "      <td>lithium batteri new introduc market averag dev...</td>\n",
              "      <td>404</td>\n",
              "      <td>...</td>\n",
              "      <td>3.982262</td>\n",
              "      <td>0.243802</td>\n",
              "      <td>0.017738</td>\n",
              "      <td>NaN</td>\n",
              "      <td>NaN</td>\n",
              "      <td>NaN</td>\n",
              "      <td>0.405405</td>\n",
              "      <td>0.405405</td>\n",
              "      <td>0.324324</td>\n",
              "      <td>0.135135</td>\n",
              "    </tr>\n",
              "    <tr>\n",
              "      <th>2</th>\n",
              "      <td>2</td>\n",
              "      <td>2</td>\n",
              "      <td>2</td>\n",
              "      <td>2</td>\n",
              "      <td>2</td>\n",
              "      <td>3</td>\n",
              "      <td>0</td>\n",
              "      <td>doesn't swing very well.</td>\n",
              "      <td>purchas swing babi 6 month pretti grow -pron- ...</td>\n",
              "      <td>248</td>\n",
              "      <td>...</td>\n",
              "      <td>3.982262</td>\n",
              "      <td>1.243802</td>\n",
              "      <td>0.982262</td>\n",
              "      <td>NaN</td>\n",
              "      <td>NaN</td>\n",
              "      <td>NaN</td>\n",
              "      <td>0.291667</td>\n",
              "      <td>0.541667</td>\n",
              "      <td>0.166667</td>\n",
              "      <td>0.416667</td>\n",
              "    </tr>\n",
              "    <tr>\n",
              "      <th>3</th>\n",
              "      <td>3</td>\n",
              "      <td>3</td>\n",
              "      <td>3</td>\n",
              "      <td>3</td>\n",
              "      <td>3</td>\n",
              "      <td>4</td>\n",
              "      <td>0</td>\n",
              "      <td>Great computing!</td>\n",
              "      <td>look inexpen desk calcolatur be work ne issu t...</td>\n",
              "      <td>212</td>\n",
              "      <td>...</td>\n",
              "      <td>3.982262</td>\n",
              "      <td>0.243802</td>\n",
              "      <td>0.017738</td>\n",
              "      <td>NaN</td>\n",
              "      <td>NaN</td>\n",
              "      <td>NaN</td>\n",
              "      <td>0.470588</td>\n",
              "      <td>0.588235</td>\n",
              "      <td>0.235294</td>\n",
              "      <td>0.294118</td>\n",
              "    </tr>\n",
              "    <tr>\n",
              "      <th>4</th>\n",
              "      <td>4</td>\n",
              "      <td>4</td>\n",
              "      <td>4</td>\n",
              "      <td>4</td>\n",
              "      <td>4</td>\n",
              "      <td>4</td>\n",
              "      <td>0</td>\n",
              "      <td>Only use twice a week</td>\n",
              "      <td>use twice week result great tooth whiten solut...</td>\n",
              "      <td>331</td>\n",
              "      <td>...</td>\n",
              "      <td>3.982262</td>\n",
              "      <td>0.243802</td>\n",
              "      <td>0.017738</td>\n",
              "      <td>NaN</td>\n",
              "      <td>NaN</td>\n",
              "      <td>NaN</td>\n",
              "      <td>0.700000</td>\n",
              "      <td>0.600000</td>\n",
              "      <td>0.350000</td>\n",
              "      <td>0.200000</td>\n",
              "    </tr>\n",
              "    <tr>\n",
              "      <th>...</th>\n",
              "      <td>...</td>\n",
              "      <td>...</td>\n",
              "      <td>...</td>\n",
              "      <td>...</td>\n",
              "      <td>...</td>\n",
              "      <td>...</td>\n",
              "      <td>...</td>\n",
              "      <td>...</td>\n",
              "      <td>...</td>\n",
              "      <td>...</td>\n",
              "      <td>...</td>\n",
              "      <td>...</td>\n",
              "      <td>...</td>\n",
              "      <td>...</td>\n",
              "      <td>...</td>\n",
              "      <td>...</td>\n",
              "      <td>...</td>\n",
              "      <td>...</td>\n",
              "      <td>...</td>\n",
              "      <td>...</td>\n",
              "      <td>...</td>\n",
              "    </tr>\n",
              "    <tr>\n",
              "      <th>20995</th>\n",
              "      <td>20995</td>\n",
              "      <td>20995</td>\n",
              "      <td>20995</td>\n",
              "      <td>20995</td>\n",
              "      <td>20995</td>\n",
              "      <td>4</td>\n",
              "      <td>1</td>\n",
              "      <td>wide width is great!</td>\n",
              "      <td>buy work high arch use arch support heel high</td>\n",
              "      <td>100</td>\n",
              "      <td>...</td>\n",
              "      <td>3.982262</td>\n",
              "      <td>0.243802</td>\n",
              "      <td>0.017738</td>\n",
              "      <td>NaN</td>\n",
              "      <td>NaN</td>\n",
              "      <td>NaN</td>\n",
              "      <td>0.444444</td>\n",
              "      <td>0.444444</td>\n",
              "      <td>0.333333</td>\n",
              "      <td>0.222222</td>\n",
              "    </tr>\n",
              "    <tr>\n",
              "      <th>20996</th>\n",
              "      <td>20996</td>\n",
              "      <td>20996</td>\n",
              "      <td>20996</td>\n",
              "      <td>20996</td>\n",
              "      <td>20996</td>\n",
              "      <td>4</td>\n",
              "      <td>1</td>\n",
              "      <td>Love crocs!</td>\n",
              "      <td>croc brand shoe foot day work love cross unise...</td>\n",
              "      <td>115</td>\n",
              "      <td>...</td>\n",
              "      <td>3.982262</td>\n",
              "      <td>0.243802</td>\n",
              "      <td>0.017738</td>\n",
              "      <td>NaN</td>\n",
              "      <td>NaN</td>\n",
              "      <td>NaN</td>\n",
              "      <td>0.636364</td>\n",
              "      <td>0.363636</td>\n",
              "      <td>0.363636</td>\n",
              "      <td>0.090909</td>\n",
              "    </tr>\n",
              "    <tr>\n",
              "      <th>20997</th>\n",
              "      <td>20997</td>\n",
              "      <td>20997</td>\n",
              "      <td>20997</td>\n",
              "      <td>20997</td>\n",
              "      <td>20997</td>\n",
              "      <td>5</td>\n",
              "      <td>1</td>\n",
              "      <td>I love moccasins This fit like it was custom m...</td>\n",
              "      <td>love moccasin fit like custom mebr veri soft c...</td>\n",
              "      <td>297</td>\n",
              "      <td>...</td>\n",
              "      <td>3.982262</td>\n",
              "      <td>0.756198</td>\n",
              "      <td>1.017738</td>\n",
              "      <td>NaN</td>\n",
              "      <td>NaN</td>\n",
              "      <td>NaN</td>\n",
              "      <td>0.320000</td>\n",
              "      <td>0.560000</td>\n",
              "      <td>0.240000</td>\n",
              "      <td>0.240000</td>\n",
              "    </tr>\n",
              "    <tr>\n",
              "      <th>20998</th>\n",
              "      <td>20998</td>\n",
              "      <td>20998</td>\n",
              "      <td>20998</td>\n",
              "      <td>20998</td>\n",
              "      <td>20998</td>\n",
              "      <td>5</td>\n",
              "      <td>1</td>\n",
              "      <td>This fit well, comfortable, best investment</td>\n",
              "      <td>wish littl durabl get catch bolt cross bunk fe...</td>\n",
              "      <td>287</td>\n",
              "      <td>...</td>\n",
              "      <td>3.982262</td>\n",
              "      <td>0.756198</td>\n",
              "      <td>1.017738</td>\n",
              "      <td>NaN</td>\n",
              "      <td>NaN</td>\n",
              "      <td>NaN</td>\n",
              "      <td>0.428571</td>\n",
              "      <td>0.464286</td>\n",
              "      <td>0.142857</td>\n",
              "      <td>0.035714</td>\n",
              "    </tr>\n",
              "    <tr>\n",
              "      <th>20999</th>\n",
              "      <td>20999</td>\n",
              "      <td>20999</td>\n",
              "      <td>20999</td>\n",
              "      <td>20999</td>\n",
              "      <td>20999</td>\n",
              "      <td>4</td>\n",
              "      <td>1</td>\n",
              "      <td>Love these shoes, except for the laces</td>\n",
              "      <td>#NAME?</td>\n",
              "      <td>742</td>\n",
              "      <td>...</td>\n",
              "      <td>3.982262</td>\n",
              "      <td>0.243802</td>\n",
              "      <td>0.017738</td>\n",
              "      <td>NaN</td>\n",
              "      <td>NaN</td>\n",
              "      <td>NaN</td>\n",
              "      <td>0.318182</td>\n",
              "      <td>0.515152</td>\n",
              "      <td>0.151515</td>\n",
              "      <td>0.181818</td>\n",
              "    </tr>\n",
              "  </tbody>\n",
              "</table>\n",
              "<p>21000 rows × 39 columns</p>\n",
              "</div>\n",
              "      <button class=\"colab-df-convert\" onclick=\"convertToInteractive('df-28b70ad7-8c0b-481f-ba21-87004a75495c')\"\n",
              "              title=\"Convert this dataframe to an interactive table.\"\n",
              "              style=\"display:none;\">\n",
              "\n",
              "  <svg xmlns=\"http://www.w3.org/2000/svg\" height=\"24px\"viewBox=\"0 0 24 24\"\n",
              "       width=\"24px\">\n",
              "    <path d=\"M0 0h24v24H0V0z\" fill=\"none\"/>\n",
              "    <path d=\"M18.56 5.44l.94 2.06.94-2.06 2.06-.94-2.06-.94-.94-2.06-.94 2.06-2.06.94zm-11 1L8.5 8.5l.94-2.06 2.06-.94-2.06-.94L8.5 2.5l-.94 2.06-2.06.94zm10 10l.94 2.06.94-2.06 2.06-.94-2.06-.94-.94-2.06-.94 2.06-2.06.94z\"/><path d=\"M17.41 7.96l-1.37-1.37c-.4-.4-.92-.59-1.43-.59-.52 0-1.04.2-1.43.59L10.3 9.45l-7.72 7.72c-.78.78-.78 2.05 0 2.83L4 21.41c.39.39.9.59 1.41.59.51 0 1.02-.2 1.41-.59l7.78-7.78 2.81-2.81c.8-.78.8-2.07 0-2.86zM5.41 20L4 18.59l7.72-7.72 1.47 1.35L5.41 20z\"/>\n",
              "  </svg>\n",
              "      </button>\n",
              "\n",
              "\n",
              "\n",
              "    <div id=\"df-b22f5904-5f60-472a-8a77-64d630f9fa23\">\n",
              "      <button class=\"colab-df-quickchart\" onclick=\"quickchart('df-b22f5904-5f60-472a-8a77-64d630f9fa23')\"\n",
              "              title=\"Suggest charts.\"\n",
              "              style=\"display:none;\">\n",
              "\n",
              "<svg xmlns=\"http://www.w3.org/2000/svg\" height=\"24px\"viewBox=\"0 0 24 24\"\n",
              "     width=\"24px\">\n",
              "    <g>\n",
              "        <path d=\"M19 3H5c-1.1 0-2 .9-2 2v14c0 1.1.9 2 2 2h14c1.1 0 2-.9 2-2V5c0-1.1-.9-2-2-2zM9 17H7v-7h2v7zm4 0h-2V7h2v10zm4 0h-2v-4h2v4z\"/>\n",
              "    </g>\n",
              "</svg>\n",
              "      </button>\n",
              "    </div>\n",
              "\n",
              "<style>\n",
              "  .colab-df-quickchart {\n",
              "    background-color: #E8F0FE;\n",
              "    border: none;\n",
              "    border-radius: 50%;\n",
              "    cursor: pointer;\n",
              "    display: none;\n",
              "    fill: #1967D2;\n",
              "    height: 32px;\n",
              "    padding: 0 0 0 0;\n",
              "    width: 32px;\n",
              "  }\n",
              "\n",
              "  .colab-df-quickchart:hover {\n",
              "    background-color: #E2EBFA;\n",
              "    box-shadow: 0px 1px 2px rgba(60, 64, 67, 0.3), 0px 1px 3px 1px rgba(60, 64, 67, 0.15);\n",
              "    fill: #174EA6;\n",
              "  }\n",
              "\n",
              "  [theme=dark] .colab-df-quickchart {\n",
              "    background-color: #3B4455;\n",
              "    fill: #D2E3FC;\n",
              "  }\n",
              "\n",
              "  [theme=dark] .colab-df-quickchart:hover {\n",
              "    background-color: #434B5C;\n",
              "    box-shadow: 0px 1px 3px 1px rgba(0, 0, 0, 0.15);\n",
              "    filter: drop-shadow(0px 1px 2px rgba(0, 0, 0, 0.3));\n",
              "    fill: #FFFFFF;\n",
              "  }\n",
              "</style>\n",
              "\n",
              "    <script>\n",
              "      async function quickchart(key) {\n",
              "        const containerElement = document.querySelector('#' + key);\n",
              "        const charts = await google.colab.kernel.invokeFunction(\n",
              "            'suggestCharts', [key], {});\n",
              "      }\n",
              "    </script>\n",
              "\n",
              "      <script>\n",
              "\n",
              "function displayQuickchartButton(domScope) {\n",
              "  let quickchartButtonEl =\n",
              "    domScope.querySelector('#df-b22f5904-5f60-472a-8a77-64d630f9fa23 button.colab-df-quickchart');\n",
              "  quickchartButtonEl.style.display =\n",
              "    google.colab.kernel.accessAllowed ? 'block' : 'none';\n",
              "}\n",
              "\n",
              "        displayQuickchartButton(document);\n",
              "      </script>\n",
              "      <style>\n",
              "    .colab-df-container {\n",
              "      display:flex;\n",
              "      flex-wrap:wrap;\n",
              "      gap: 12px;\n",
              "    }\n",
              "\n",
              "    .colab-df-convert {\n",
              "      background-color: #E8F0FE;\n",
              "      border: none;\n",
              "      border-radius: 50%;\n",
              "      cursor: pointer;\n",
              "      display: none;\n",
              "      fill: #1967D2;\n",
              "      height: 32px;\n",
              "      padding: 0 0 0 0;\n",
              "      width: 32px;\n",
              "    }\n",
              "\n",
              "    .colab-df-convert:hover {\n",
              "      background-color: #E2EBFA;\n",
              "      box-shadow: 0px 1px 2px rgba(60, 64, 67, 0.3), 0px 1px 3px 1px rgba(60, 64, 67, 0.15);\n",
              "      fill: #174EA6;\n",
              "    }\n",
              "\n",
              "    [theme=dark] .colab-df-convert {\n",
              "      background-color: #3B4455;\n",
              "      fill: #D2E3FC;\n",
              "    }\n",
              "\n",
              "    [theme=dark] .colab-df-convert:hover {\n",
              "      background-color: #434B5C;\n",
              "      box-shadow: 0px 1px 3px 1px rgba(0, 0, 0, 0.15);\n",
              "      filter: drop-shadow(0px 1px 2px rgba(0, 0, 0, 0.3));\n",
              "      fill: #FFFFFF;\n",
              "    }\n",
              "  </style>\n",
              "\n",
              "      <script>\n",
              "        const buttonEl =\n",
              "          document.querySelector('#df-28b70ad7-8c0b-481f-ba21-87004a75495c button.colab-df-convert');\n",
              "        buttonEl.style.display =\n",
              "          google.colab.kernel.accessAllowed ? 'block' : 'none';\n",
              "\n",
              "        async function convertToInteractive(key) {\n",
              "          const element = document.querySelector('#df-28b70ad7-8c0b-481f-ba21-87004a75495c');\n",
              "          const dataTable =\n",
              "            await google.colab.kernel.invokeFunction('convertToInteractive',\n",
              "                                                     [key], {});\n",
              "          if (!dataTable) return;\n",
              "\n",
              "          const docLinkHtml = 'Like what you see? Visit the ' +\n",
              "            '<a target=\"_blank\" href=https://colab.research.google.com/notebooks/data_table.ipynb>data table notebook</a>'\n",
              "            + ' to learn more about interactive tables.';\n",
              "          element.innerHTML = '';\n",
              "          dataTable['output_type'] = 'display_data';\n",
              "          await google.colab.output.renderOutput(dataTable, element);\n",
              "          const docLink = document.createElement('div');\n",
              "          docLink.innerHTML = docLinkHtml;\n",
              "          element.appendChild(docLink);\n",
              "        }\n",
              "      </script>\n",
              "    </div>\n",
              "  </div>\n"
            ]
          },
          "metadata": {},
          "execution_count": 5
        }
      ]
    },
    {
      "cell_type": "markdown",
      "source": [
        "## Data Analysis (Dont Run):"
      ],
      "metadata": {
        "id": "btePEqP9GU2-"
      }
    },
    {
      "cell_type": "code",
      "source": [
        "sns.heatmap(dataframe.corr(), annot = False)"
      ],
      "metadata": {
        "colab": {
          "base_uri": "https://localhost:8080/",
          "height": 731
        },
        "id": "ZEg7g_UOC7zD",
        "outputId": "dd6534e3-410e-49c8-db2e-0bf058b8c557"
      },
      "execution_count": 9,
      "outputs": [
        {
          "output_type": "stream",
          "name": "stderr",
          "text": [
            "<ipython-input-9-7cd1dfdef314>:1: FutureWarning: The default value of numeric_only in DataFrame.corr is deprecated. In a future version, it will default to False. Select only valid columns or specify the value of numeric_only to silence this warning.\n",
            "  sns.heatmap(dataframe.corr(), annot = False)\n"
          ]
        },
        {
          "output_type": "execute_result",
          "data": {
            "text/plain": [
              "<Axes: >"
            ]
          },
          "metadata": {},
          "execution_count": 9
        },
        {
          "output_type": "display_data",
          "data": {
            "text/plain": [
              "<Figure size 640x480 with 2 Axes>"
            ],
            "image/png": "[encoded data removed]"
          },
          "metadata": {}
        }
      ]
    },
    {
      "cell_type": "code",
      "source": [
        "subset_dataframe = dataframe.sample(n=200, random_state=42)\n",
        "\n",
        "# Use sns.pairplot with the subset DataFrame\n",
        "sns.pairplot(subset_dataframe, hue = 'LABEL_ENCODED')\n",
        "\n",
        "# Display the plot\n",
        "plt.show()"
      ],
      "metadata": {
        "id": "wZk7Wcg6MTAU"
      },
      "execution_count": null,
      "outputs": []
    },
    {
      "cell_type": "markdown",
      "source": [
        "sentiment score title might be an important feature?"
      ],
      "metadata": {
        "id": "6Z3eaVU5OdlU"
      }
    },
    {
      "cell_type": "markdown",
      "source": [
        "## Sentiment Score:"
      ],
      "metadata": {
        "id": "sRstV1FvOpIo"
      }
    },
    {
      "cell_type": "code",
      "source": [
        "from textblob import TextBlob\n",
        "\n",
        "def calculate_sentiment_score(text):\n",
        "\n",
        "    # Create a TextBlob object\n",
        "    blob = TextBlob(text)\n",
        "\n",
        "    # Calculate the sentiment polarity (-1.0 to 1.0, where negative means negative sentiment and positive means positive sentiment)\n",
        "    sentiment_score = blob.sentiment.polarity\n",
        "\n",
        "    return sentiment_score\n",
        "\n",
        "if __name__ == \"__main__\":\n",
        "    input_text = \"This is a bad product. I did not enjoy using it that much\"\n",
        "    score = calculate_sentiment_score(input_text)\n",
        "    print(\"Sentiment Score:\", score)"
      ],
      "metadata": {
        "colab": {
          "base_uri": "https://localhost:8080/"
        },
        "id": "SKTUyY9COqv8",
        "outputId": "9dd5f92b-9fa2-4b91-b14b-32d883264d6b"
      },
      "execution_count": 6,
      "outputs": [
        {
          "output_type": "stream",
          "name": "stdout",
          "text": [
            "Sentiment Score: -0.2333333333333333\n"
          ]
        }
      ]
    },
    {
      "cell_type": "markdown",
      "source": [
        "(TextBlob calculates its sentiment scores using unigram tokenization)"
      ],
      "metadata": {
        "id": "xYLltL7xPGCM"
      }
    },
    {
      "cell_type": "markdown",
      "source": [
        "# **Bigram Tokenisation**:"
      ],
      "metadata": {
        "id": "iJwhUbNTPRQk"
      }
    },
    {
      "cell_type": "code",
      "source": [
        "#Label_Encoded 0 = Fake Product Review\n",
        "#Label_Encoded 1 = Real Product Review\n",
        "\n",
        "\n",
        "split_row_number = 10500\n",
        "\n",
        "df_fake = dataframe.iloc[:split_row_number]\n",
        "df_real = dataframe.iloc[split_row_number:]\n",
        "\n",
        "\n",
        "\n",
        "# Make a list of bigrams in fake reviews and real reviews\n",
        "def get_bigrams(sentence):\n",
        "    words = sentence.split()\n",
        "    bigrams = [(words[i], words[i + 1]) for i in range(len(words) - 1)]\n",
        "    return bigrams\n",
        "\n",
        "all_bigrams_fake = []\n",
        "all_bigrams_real = []\n",
        "\n",
        "for sentence in df_fake['REVIEW_TEXT']:\n",
        "    bigrams = get_bigrams(sentence)\n",
        "    all_bigrams_fake.extend(bigrams)\n",
        "\n",
        "for sentence in df_real['REVIEW_TEXT']:\n",
        "    bigrams = get_bigrams(sentence)\n",
        "    all_bigrams_real.extend(bigrams)\n",
        "\n",
        "print(\"Number of Fake Review Bigrams: \",len(all_bigrams_fake))\n",
        "print(\"Number of Real Review Bigrams: \",len(all_bigrams_real))\n",
        "\n",
        "# List of all bigrams\n",
        "all_bigrams = []\n",
        "\n",
        "for sentence in dataframe['REVIEW_TEXT']:\n",
        "    bigrams = get_bigrams(sentence)\n",
        "    all_bigrams.extend(bigrams)\n"
      ],
      "metadata": {
        "id": "xVPzD3S-PR0M",
        "colab": {
          "base_uri": "https://localhost:8080/"
        },
        "outputId": "8be56c6c-0368-4dd5-cd1b-cf9f72e05491"
      },
      "execution_count": 7,
      "outputs": [
        {
          "output_type": "stream",
          "name": "stdout",
          "text": [
            "Number of Fake Review Bigrams:  278045\n",
            "Number of Real Review Bigrams:  387142\n"
          ]
        }
      ]
    },
    {
      "cell_type": "code",
      "source": [
        "def bigram_frequency(bigram, bigram_list):\n",
        "    return bigram_list.count(bigram)"
      ],
      "metadata": {
        "id": "MXtKHyA0fdMY"
      },
      "execution_count": 8,
      "outputs": []
    },
    {
      "cell_type": "code",
      "source": [
        "from collections import Counter\n",
        "\n",
        "#FAKE\n",
        "\n",
        "# Calculate frequencies of bigrams in all_bigrams_fake\n",
        "bigram_freq_fake = Counter(all_bigrams_fake)\n",
        "\n",
        "frequency_in_fake = {}\n",
        "\n",
        "# Iterate over all_bigrams and set the frequencies in frequency_in_fake\n",
        "for bigram in all_bigrams:\n",
        "    frequency_in_fake[bigram] = bigram_freq_fake.get(bigram, 0)\n",
        "\n",
        "#REAL\n",
        "\n",
        "# Calculate frequencies of bigrams in all_bigrams_real\n",
        "bigram_freq_real = Counter(all_bigrams_real)\n",
        "\n",
        "frequency_in_real = {}\n",
        "\n",
        "# Iterate over all_bigrams and set the frequencies in frequency_in_real\n",
        "for bigram in all_bigrams:\n",
        "    frequency_in_real[bigram] = bigram_freq_real.get(bigram, 0)\n",
        "\n",
        "\n"
      ],
      "metadata": {
        "id": "dMPr0K_ep2UH"
      },
      "execution_count": 9,
      "outputs": []
    },
    {
      "cell_type": "markdown",
      "source": [
        "##Bigram Frequency Output Analysis:"
      ],
      "metadata": {
        "id": "L9jVOa9fsN-E"
      }
    },
    {
      "cell_type": "code",
      "source": [
        "from itertools import islice\n",
        "\n",
        "num_items = 30\n",
        "\n",
        "first_few_items_in_fake = dict(islice(frequency_in_fake.items(), num_items))\n",
        "\n",
        "print(first_few_items_in_fake)"
      ],
      "metadata": {
        "colab": {
          "base_uri": "https://localhost:8080/"
        },
        "id": "CYuecp8VqbhF",
        "outputId": "c3cc663b-a98f-475a-83fa-8a467f6cd097"
      },
      "execution_count": 10,
      "outputs": [
        {
          "output_type": "stream",
          "name": "stdout",
          "text": [
            "{('think', 'so'): 2, ('so', 'product'): 1, ('product', 'save'): 5, ('save', 'day'): 3, ('day', 'case'): 1, ('case', 'need'): 6, ('need', 'someth'): 2, ('lithium', 'batteri'): 3, ('batteri', 'new'): 1, ('new', 'introduc'): 1, ('introduc', 'market'): 1, ('market', 'averag'): 1, ('averag', 'develop'): 1, ('develop', 'cost'): 1, ('cost', 'rel'): 1, ('rel', 'high'): 1, ('high', 'stallion'): 1, ('stallion', 'do'): 1, ('do', 'not'): 2250, ('not', 'compromis'): 1, ('compromis', 'qualiti'): 2, ('qualiti', 'provid'): 1, ('provid', 'good'): 7, ('good', 'low'): 4, ('low', 'costbr'): 1, ('costbr', 'there'): 1, ('there', 'build'): 1, ('build', 'technic'): 1, ('technic', 'assist'): 1, ('assist', 'act'): 1}\n"
          ]
        }
      ]
    },
    {
      "cell_type": "code",
      "source": [
        "count_zero_frequency = 0\n",
        "for index, (bigram, frequency) in enumerate(frequency_in_fake.items()):\n",
        "    if frequency == 0:\n",
        "        print(f\"Index: {index}, Bigram: {bigram}\")\n",
        "        count_zero_frequency += 1\n",
        "        if count_zero_frequency == 20:\n",
        "            break"
      ],
      "metadata": {
        "id": "7o_5lxwuq8B3",
        "colab": {
          "base_uri": "https://localhost:8080/"
        },
        "outputId": "54aaf2c4-503f-4a0e-e188-ad43bdbd4740"
      },
      "execution_count": 11,
      "outputs": [
        {
          "output_type": "stream",
          "name": "stdout",
          "text": [
            "Index: 181517, Bigram: ('separ', 'credit')\n",
            "Index: 181518, Bigram: ('belt', 'upcom')\n",
            "Index: 181519, Bigram: ('europ', 'fit')\n",
            "Index: 181520, Bigram: ('fine', 'offer')\n",
            "Index: 181521, Bigram: ('offer', 'peac')\n",
            "Index: 181522, Bigram: ('mind', 'electron')\n",
            "Index: 181523, Bigram: ('electron', 'theft')\n",
            "Index: 181524, Bigram: ('theft', 'go')\n",
            "Index: 181525, Bigram: ('probabl', 'excit')\n",
            "Index: 181526, Bigram: ('excit', 'gift')\n",
            "Index: 181527, Bigram: ('child', 'kid')\n",
            "Index: 181528, Bigram: ('kid', 'fascin')\n",
            "Index: 181529, Bigram: ('fascin', 'concept')\n",
            "Index: 181530, Bigram: ('concept', 'drive')\n",
            "Index: 181531, Bigram: ('littl', 'vehicl')\n",
            "Index: 181532, Bigram: ('vehicl', 'safe')\n",
            "Index: 181533, Bigram: ('safe', 'maneuv')\n",
            "Index: 181534, Bigram: ('maneuv', 'awesom')\n",
            "Index: 181535, Bigram: ('type', 'vehicl')\n",
            "Index: 181536, Bigram: ('vehicl', '3')\n"
          ]
        }
      ]
    },
    {
      "cell_type": "markdown",
      "source": [
        "Frequency_in_fake consists of all bigrams and their occurance in fake reviews, almost all the bigrams with a very high index (181000+) have an occurence of 0.\n",
        "This is because all_bigrams consisted of fake review bigrams then real review bigrams therefore after this index you have those that should have a good occurence in Frequency_in_real."
      ],
      "metadata": {
        "id": "rQLUtgdMrRJA"
      }
    },
    {
      "cell_type": "code",
      "source": [
        "from itertools import islice\n",
        "\n",
        "num_items = 30\n",
        "\n",
        "first_few_items_in_real = dict(islice(frequency_in_real.items(), num_items))\n",
        "\n",
        "print(first_few_items_in_real)"
      ],
      "metadata": {
        "colab": {
          "base_uri": "https://localhost:8080/"
        },
        "id": "UkBDxG9OtIW6",
        "outputId": "eb8bb0c2-b445-4e88-f701-bb1c80454b10"
      },
      "execution_count": 12,
      "outputs": [
        {
          "output_type": "stream",
          "name": "stdout",
          "text": [
            "{('think', 'so'): 2, ('so', 'product'): 1, ('product', 'save'): 2, ('save', 'day'): 1, ('day', 'case'): 1, ('case', 'need'): 10, ('need', 'someth'): 0, ('lithium', 'batteri'): 1, ('batteri', 'new'): 1, ('new', 'introduc'): 0, ('introduc', 'market'): 0, ('market', 'averag'): 0, ('averag', 'develop'): 0, ('develop', 'cost'): 0, ('cost', 'rel'): 0, ('rel', 'high'): 1, ('high', 'stallion'): 0, ('stallion', 'do'): 0, ('do', 'not'): 2884, ('not', 'compromis'): 0, ('compromis', 'qualiti'): 0, ('qualiti', 'provid'): 0, ('provid', 'good'): 8, ('good', 'low'): 3, ('low', 'costbr'): 2, ('costbr', 'there'): 0, ('there', 'build'): 1, ('build', 'technic'): 0, ('technic', 'assist'): 0, ('assist', 'act'): 0}\n"
          ]
        }
      ]
    },
    {
      "cell_type": "markdown",
      "source": [
        "## Differences:"
      ],
      "metadata": {
        "id": "mMwv_F64xo5m"
      }
    },
    {
      "cell_type": "code",
      "source": [
        "# Calculate how much more often a bigram appears in fake reviews than in real reviews\n",
        "\n",
        "bigram_differences = {bigram : frequency_in_fake[bigram] - frequency_in_real.get(bigram, 0) for bigram in frequency_in_fake}\n",
        "\n",
        "num_items = 30\n",
        "first_few_items_in_differences = dict(islice(bigram_differences.items(), num_items))\n",
        "\n",
        "print(first_few_items_in_differences)"
      ],
      "metadata": {
        "colab": {
          "base_uri": "https://localhost:8080/"
        },
        "id": "MUhJ_lMffaXv",
        "outputId": "a4ac7c12-25ff-438f-d806-2efbf3bb6e30"
      },
      "execution_count": 13,
      "outputs": [
        {
          "output_type": "stream",
          "name": "stdout",
          "text": [
            "{('think', 'so'): 0, ('so', 'product'): 0, ('product', 'save'): 3, ('save', 'day'): 2, ('day', 'case'): 0, ('case', 'need'): -4, ('need', 'someth'): 2, ('lithium', 'batteri'): 2, ('batteri', 'new'): 0, ('new', 'introduc'): 1, ('introduc', 'market'): 1, ('market', 'averag'): 1, ('averag', 'develop'): 1, ('develop', 'cost'): 1, ('cost', 'rel'): 1, ('rel', 'high'): 0, ('high', 'stallion'): 1, ('stallion', 'do'): 1, ('do', 'not'): -634, ('not', 'compromis'): 1, ('compromis', 'qualiti'): 2, ('qualiti', 'provid'): 1, ('provid', 'good'): -1, ('good', 'low'): 1, ('low', 'costbr'): -1, ('costbr', 'there'): 1, ('there', 'build'): 0, ('build', 'technic'): 1, ('technic', 'assist'): 1, ('assist', 'act'): 1}\n"
          ]
        }
      ]
    },
    {
      "cell_type": "markdown",
      "source": [
        "*   Positive Difference = More in Fake Reviews\n",
        "*   Negative Difference = More in Real Reviews\n"
      ],
      "metadata": {
        "id": "0czidMUew6yF"
      }
    },
    {
      "cell_type": "markdown",
      "source": [
        "## Observing Trends:"
      ],
      "metadata": {
        "id": "E7qKldBatAHi"
      }
    },
    {
      "cell_type": "code",
      "source": [
        "asc_bigram_differences = dict(sorted(bigram_differences.items(), key=lambda item: item[1], reverse=False))\n",
        "dsc_bigram_differences = dict(sorted(bigram_differences.items(), key=lambda item: item[1], reverse=True))\n",
        "\n",
        "num_items = 30\n",
        "first_few_items_in_asc_differences = dict(islice(asc_bigram_differences.items(), num_items))\n",
        "first_few_items_in_dsc_differences = dict(islice(dsc_bigram_differences.items(), num_items))\n",
        "\n",
        "print(first_few_items_in_asc_differences)\n",
        "print(first_few_items_in_dsc_differences)"
      ],
      "metadata": {
        "colab": {
          "base_uri": "https://localhost:8080/"
        },
        "id": "LRCtKbqewY5B",
        "outputId": "c690a410-5fdd-4987-8102-f806eb076ce3"
      },
      "execution_count": 14,
      "outputs": [
        {
          "output_type": "stream",
          "name": "stdout",
          "text": [
            "{('do', 'not'): -634, ('br', 'the'): -323, ('-PRON-', 'have'): -286, ('br', 'i'): -212, ('be', 'not'): -196, ('-PRON-', 'be'): -169, ('-PRON-', 'would'): -168, ('br', '-PRON-'): -153, ('br', 'thi'): -108, ('year', 'old'): -107, ('will', 'not'): -71, ('year', 'ago'): -68, ('itbr', 'br'): -65, ('have', 'not'): -63, ('can', 'not'): -61, ('work', 'fine'): -60, ('-PRON-', 'will'): -59, ('br', 'overal'): -57, ('br', 'so'): -47, ('be', 'sure'): -46, ('read', 'review'): -46, ('not', 'want'): -46, ('br', 'there'): -46, ('not', 'work'): -45, ('not', 'like'): -43, ('work', 'great'): -42, ('br', 'br'): -41, ('big', 'deal'): -38, ('look', 'like'): -38, ('work', 'well'): -38}\n",
            "{('easi', 'use'): 87, ('high', 'qualiti'): 74, ('highli', 'recommend'): 72, ('great', 'product'): 63, ('good', 'qualiti'): 57, ('great', 'price'): 52, ('sound', 'qualiti'): 52, ('great', 'qualiti'): 52, ('weight', 'loss'): 48, ('lose', 'weight'): 47, ('qualiti', 'product'): 46, ('look', 'good'): 42, ('qualiti', 'great'): 38, ('buy', 'product'): 36, ('not', 'believ'): 35, ('amazon', '62'): 34, ('recommend', 'product'): 33, ('product', 'good'): 32, ('recommend', 'friend'): 32, ('buy', '-PRON-'): 31, ('qualiti', 'materi'): 30, ('light', 'bar'): 30, ('love', 'much'): 29, ('iphon', '6'): 28, ('wear', '-PRON-'): 28, ('bag', 'look'): 27, ('easi', 'carri'): 27, ('live', 'room'): 26, ('not', 'regret'): 25, ('afford', 'price'): 25}\n"
          ]
        }
      ]
    },
    {
      "cell_type": "code",
      "source": [
        "\n",
        "'''\n",
        "# 2 lists: Ascending and Descending\n",
        "\n",
        "# Get the most informative bigrams:\n",
        "# Step 1: Remove bigrams that rarely appear (filter bigrams that appear less than 10 times total (or something; 10 is arbitrary))\n",
        "# Step 2: Only take the bigrams with the biggest differences (divided by number of appearances (i.e. proportion changed))\n",
        "# output: most_informative_bigrams\n",
        "\n",
        "for bigram in most_informative_bigrams:\n",
        "  df[str(bigram)] = bigram_freq(bigram, df['PREPROCESSED_REVIEW_TEXT'])\n",
        "\n",
        "for bigram in most_informative_bigrams:\n",
        "  only_NLP_df[str(bigram)] = bigram_freq(bigram, df['PREPROCESSED_REVIEW_TEXT'])\n",
        "'''\n",
        "\n",
        "'''\n",
        "normalise bigrams\n",
        " divide  difference / sum of real and fake occurences\n",
        "'''\n"
      ],
      "metadata": {
        "colab": {
          "base_uri": "https://localhost:8080/",
          "height": 35
        },
        "id": "97w2ZgF9zdau",
        "outputId": "a0fa3e72-7486-4167-e7d7-e1458239b574"
      },
      "execution_count": 15,
      "outputs": [
        {
          "output_type": "execute_result",
          "data": {
            "text/plain": [
              "'\\nnormalise bigrams\\n divide  difference / sum of real and fake occurences\\n'"
            ],
            "application/vnd.google.colaboratory.intrinsic+json": {
              "type": "string"
            }
          },
          "metadata": {},
          "execution_count": 15
        }
      ]
    },
    {
      "cell_type": "markdown",
      "source": [
        "#**Normalisation:**"
      ],
      "metadata": {
        "id": "Kx2Iw1ceL8k2"
      }
    },
    {
      "cell_type": "markdown",
      "source": [
        "## Filtering Bigrams:"
      ],
      "metadata": {
        "id": "RmPo3y0KV5ci"
      }
    },
    {
      "cell_type": "code",
      "source": [
        "# Continuining with those bigrams that appear more than 60 times\n",
        "ovr_frequency = {}\n",
        "for bigram in all_bigrams:\n",
        "    ovr_frequency[bigram] = bigram_freq_fake.get(bigram, 0) + bigram_freq_real.get(bigram, 0)\n",
        "\n",
        "print(dict(islice(ovr_frequency.items(), num_items)))"
      ],
      "metadata": {
        "colab": {
          "base_uri": "https://localhost:8080/"
        },
        "id": "Asj7BbVCMOCU",
        "outputId": "a932dff3-025c-4ca9-cbc8-01969c461ae6"
      },
      "execution_count": 16,
      "outputs": [
        {
          "output_type": "stream",
          "name": "stdout",
          "text": [
            "{('think', 'so'): 4, ('so', 'product'): 2, ('product', 'save'): 7, ('save', 'day'): 4, ('day', 'case'): 2, ('case', 'need'): 16, ('need', 'someth'): 2, ('lithium', 'batteri'): 4, ('batteri', 'new'): 2, ('new', 'introduc'): 1, ('introduc', 'market'): 1, ('market', 'averag'): 1, ('averag', 'develop'): 1, ('develop', 'cost'): 1, ('cost', 'rel'): 1, ('rel', 'high'): 2, ('high', 'stallion'): 1, ('stallion', 'do'): 1, ('do', 'not'): 5134, ('not', 'compromis'): 1, ('compromis', 'qualiti'): 2, ('qualiti', 'provid'): 1, ('provid', 'good'): 15, ('good', 'low'): 7, ('low', 'costbr'): 3, ('costbr', 'there'): 1, ('there', 'build'): 2, ('build', 'technic'): 1, ('technic', 'assist'): 1, ('assist', 'act'): 1}\n"
          ]
        }
      ]
    },
    {
      "cell_type": "code",
      "source": [
        "len(ovr_frequency)"
      ],
      "metadata": {
        "colab": {
          "base_uri": "https://localhost:8080/"
        },
        "id": "7bURilc7SLmS",
        "outputId": "f271f0d1-49cb-4089-b7ff-fd7ba8850125"
      },
      "execution_count": 17,
      "outputs": [
        {
          "output_type": "execute_result",
          "data": {
            "text/plain": [
              "407333"
            ]
          },
          "metadata": {},
          "execution_count": 17
        }
      ]
    },
    {
      "cell_type": "code",
      "source": [
        "accepted = 0\n",
        "for index, (bigram, frequency) in enumerate(ovr_frequency.items()):\n",
        "    if frequency > 60:\n",
        "        accepted += 1\n",
        "\n",
        "print(\"Number of Bigrams that fit the criteria are: \",accepted)\n",
        "print(len([val for val in ovr_frequency.values() if val > 60]))\n"
      ],
      "metadata": {
        "colab": {
          "base_uri": "https://localhost:8080/"
        },
        "id": "Zv2YPNEfR-us",
        "outputId": "d3b95d82-675b-4c12-832d-38d74940de16"
      },
      "execution_count": 18,
      "outputs": [
        {
          "output_type": "stream",
          "name": "stdout",
          "text": [
            "Number of Bigrams that fit the criteria are:  256\n",
            "256\n"
          ]
        }
      ]
    },
    {
      "cell_type": "markdown",
      "source": [
        "## Normailisation:"
      ],
      "metadata": {
        "id": "9HigCt0nWFJQ"
      }
    },
    {
      "cell_type": "code",
      "source": [
        "final_bigrams_freq = {bigram: frequency for bigram, frequency in ovr_frequency.items() if frequency > 60}\n",
        "print(dict(islice(final_bigrams_freq.items(), num_items)))\n",
        "print(len(final_bigrams_freq))"
      ],
      "metadata": {
        "colab": {
          "base_uri": "https://localhost:8080/"
        },
        "id": "QOKqGML1UZ38",
        "outputId": "7766f6c2-451d-413d-e62c-d55ea14362a4"
      },
      "execution_count": 19,
      "outputs": [
        {
          "output_type": "stream",
          "name": "stdout",
          "text": [
            "{('do', 'not'): 5134, ('6', 'month'): 74, ('love', 'color'): 64, ('not', 'think'): 209, ('worth', 'money'): 125, ('littl', 'bit'): 143, ('big', 'deal'): 68, ('be', 'sure'): 196, ('year', 'old'): 375, ('not', 'wast'): 78, ('wast', 'money'): 144, ('not', 'work'): 263, ('easi', 'use'): 389, ('highli', 'recommend'): 698, ('save', 'money'): 71, ('work', 'great'): 698, ('great', 'price'): 276, ('look', 'like'): 456, ('i', 'buy'): 71, ('have', 'get'): 64, ('long', 'time'): 260, ('2', 'week'): 71, ('recommend', 'buy'): 76, ('buy', 'product'): 114, ('br', 'i'): 848, ('feel', 'great'): 63, ('be', 'not'): 1212, ('not', 'use'): 167, ('happi', 'purchas'): 85, ('great', 'product'): 307}\n",
            "256\n"
          ]
        }
      ]
    },
    {
      "cell_type": "code",
      "source": [
        "final_bigrams_diff = {bigram: frequency_in_fake[bigram] - frequency_in_real.get(bigram, 0) for bigram, frequency in ovr_frequency.items() if frequency > 60}\n",
        "print(dict(islice(final_bigrams_diff.items(), num_items)))"
      ],
      "metadata": {
        "colab": {
          "base_uri": "https://localhost:8080/"
        },
        "id": "_NIyTGkiWG5g",
        "outputId": "4ec68a92-a74b-4691-d4ea-b5bcf4c8203a"
      },
      "execution_count": 20,
      "outputs": [
        {
          "output_type": "stream",
          "name": "stdout",
          "text": [
            "{('do', 'not'): -634, ('6', 'month'): -4, ('love', 'color'): 14, ('not', 'think'): 1, ('worth', 'money'): 3, ('littl', 'bit'): -3, ('big', 'deal'): -38, ('be', 'sure'): -46, ('year', 'old'): -107, ('not', 'wast'): 2, ('wast', 'money'): -10, ('not', 'work'): -45, ('easi', 'use'): 87, ('highli', 'recommend'): 72, ('save', 'money'): 9, ('work', 'great'): -42, ('great', 'price'): 52, ('look', 'like'): -38, ('i', 'buy'): -7, ('have', 'get'): -8, ('long', 'time'): 18, ('2', 'week'): -3, ('recommend', 'buy'): 20, ('buy', 'product'): 36, ('br', 'i'): -212, ('feel', 'great'): 23, ('be', 'not'): -196, ('not', 'use'): -15, ('happi', 'purchas'): 17, ('great', 'product'): 63}\n"
          ]
        }
      ]
    },
    {
      "cell_type": "markdown",
      "source": [
        "*   Positive Difference = More in Fake Reviews\n",
        "*   Negative Difference = More in Real Reviews"
      ],
      "metadata": {
        "id": "TikJgiQgXOGf"
      }
    },
    {
      "cell_type": "code",
      "source": [
        "norm_bigrams = {bigram: final_bigrams_diff.get(bigram, 0) / final_bigrams_freq.get(bigram, 1) for bigram in final_bigrams_freq.keys()}\n",
        "\n",
        "# don't do this; calculate a histogram instead\n",
        "norm_bigrams = {key: round(value, 1) for key, value in norm_bigrams.items()}\n",
        "print(dict(islice(norm_bigrams.items(), num_items)))"
      ],
      "metadata": {
        "colab": {
          "base_uri": "https://localhost:8080/"
        },
        "id": "LcDDLUC0XO7C",
        "outputId": "218fda49-83fe-4c54-86ad-a3b6510744b0"
      },
      "execution_count": 21,
      "outputs": [
        {
          "output_type": "stream",
          "name": "stdout",
          "text": [
            "{('do', 'not'): -0.1, ('6', 'month'): -0.1, ('love', 'color'): 0.2, ('not', 'think'): 0.0, ('worth', 'money'): 0.0, ('littl', 'bit'): -0.0, ('big', 'deal'): -0.6, ('be', 'sure'): -0.2, ('year', 'old'): -0.3, ('not', 'wast'): 0.0, ('wast', 'money'): -0.1, ('not', 'work'): -0.2, ('easi', 'use'): 0.2, ('highli', 'recommend'): 0.1, ('save', 'money'): 0.1, ('work', 'great'): -0.1, ('great', 'price'): 0.2, ('look', 'like'): -0.1, ('i', 'buy'): -0.1, ('have', 'get'): -0.1, ('long', 'time'): 0.1, ('2', 'week'): -0.0, ('recommend', 'buy'): 0.3, ('buy', 'product'): 0.3, ('br', 'i'): -0.2, ('feel', 'great'): 0.4, ('be', 'not'): -0.2, ('not', 'use'): -0.1, ('happi', 'purchas'): 0.2, ('great', 'product'): 0.2}\n"
          ]
        }
      ]
    },
    {
      "cell_type": "markdown",
      "source": [
        "## Scatterplot:"
      ],
      "metadata": {
        "id": "E6PC3uOjE5uT"
      }
    },
    {
      "cell_type": "code",
      "source": [
        "norm_value_counts = Counter(norm_bigrams.values())\n",
        "norm_values, counts = zip(*norm_value_counts.items())\n",
        "\n",
        "sorted_indices = sorted(range(len(norm_values)), key=lambda k: norm_values[k])\n",
        "norm_values = [norm_values[i] for i in sorted_indices]\n",
        "counts = [counts[i] for i in sorted_indices]\n",
        "\n",
        "plt.scatter(norm_values, counts, label='Data Points')\n",
        "\n",
        "plt.plot(norm_values, counts, color='blue', label='Line Connecting Points')\n",
        "\n",
        "plt.xlabel('Normalized Value')\n",
        "plt.ylabel('Count')\n",
        "plt.title('Count of Normalized Values')\n",
        "plt.legend()\n",
        "\n",
        "plt.show()"
      ],
      "metadata": {
        "colab": {
          "base_uri": "https://localhost:8080/",
          "height": 0
        },
        "id": "cEviIbLlJ51v",
        "outputId": "1c3f5a0b-1084-453a-959c-f81291a33ef5"
      },
      "execution_count": 22,
      "outputs": [
        {
          "output_type": "display_data",
          "data": {
            "text/plain": [
              "<Figure size 640x480 with 1 Axes>"
            ],
            "image/png": "[encoded data removed]"
          },
          "metadata": {}
        }
      ]
    },
    {
      "cell_type": "markdown",
      "source": [
        "## Final Normalised Bigrams:"
      ],
      "metadata": {
        "id": "Ctjwb9p0Td78"
      }
    },
    {
      "cell_type": "code",
      "source": [
        "final_norm_bigrams = {bigram: value for bigram, value in norm_bigrams.items() if value <= -0.3 or value >= 0.3}\n",
        "print(dict(islice(final_norm_bigrams.items(), num_items)))\n",
        "len(final_norm_bigrams)"
      ],
      "metadata": {
        "colab": {
          "base_uri": "https://localhost:8080/"
        },
        "id": "48SnpmBpThSs",
        "outputId": "43d9ce03-8dde-4d0d-deaf-aed59d22f732"
      },
      "execution_count": 23,
      "outputs": [
        {
          "output_type": "stream",
          "name": "stdout",
          "text": [
            "{('big', 'deal'): -0.6, ('year', 'old'): -0.3, ('recommend', 'buy'): 0.3, ('buy', 'product'): 0.3, ('feel', 'great'): 0.4, ('3', 'month'): -0.3, ('read', 'review'): -0.3, ('br', 'so'): -0.5, ('work', 'fine'): -0.3, ('product', 'good'): 0.3, ('month', 'ago'): 0.3, ('br', 'the'): -0.5, ('br', 'thi'): -0.4, ('br', 'in'): -0.6, ('br', 'but'): -0.4, ('lose', 'weight'): 0.7, ('itbr', 'br'): -0.3, ('not', 'come'): -0.3, ('br', 'br'): -0.5, ('qualiti', 'great'): 0.4, ('br', '-PRON-'): -0.3, ('time', '-PRON-'): -0.3, ('br', 'overal'): -0.5, ('qualiti', 'product'): 0.3, ('year', 'ago'): -0.4, ('-PRON-', 'littl'): -0.3, ('-PRON-', 'would'): -0.3, ('4', 'star'): -0.4, ('sound', 'qualiti'): 0.3, ('recommend', 'friend'): 0.4}\n"
          ]
        },
        {
          "output_type": "execute_result",
          "data": {
            "text/plain": [
              "45"
            ]
          },
          "metadata": {},
          "execution_count": 23
        }
      ]
    },
    {
      "cell_type": "markdown",
      "source": [
        "**(29 - 16 split at values -0.3 and 0.3)**\n",
        "*   Positive Difference = More in Fake Reviews\n",
        "*   Negative Difference = More in Real Reviews"
      ],
      "metadata": {
        "id": "l1I3jzpXUtdI"
      }
    },
    {
      "cell_type": "markdown",
      "source": [
        "#**Implementing Bigrams:**"
      ],
      "metadata": {
        "id": "m2og_qIqVjJF"
      }
    },
    {
      "cell_type": "code",
      "source": [
        "df = dataframe.copy()\n",
        "df_bigrams = dataframe.copy()"
      ],
      "metadata": {
        "id": "TYiGLwPTVwTO"
      },
      "execution_count": 24,
      "outputs": []
    },
    {
      "cell_type": "code",
      "source": [
        "def count_bigram_occurrences(row, desired_bigram):\n",
        "    # if your code is running too slow, you can definitely speed this up\n",
        "    text = row['REVIEW_TEXT']\n",
        "    bigram_counts = Counter(get_bigrams(text))\n",
        "    # Graham: Rewriting line\n",
        "    #desired_value = bigram_counts.get(bigram, 0) if bigram == desired_bigram else 0\n",
        "    desired_value = bigram_counts.get(desired_bigram, 0)\n",
        "    return desired_value\n",
        "\n",
        "# Creating columns and applying count_bigram_occurences funtion\n",
        "for bigram in final_norm_bigrams:\n",
        "    df_bigrams[bigram] = df_bigrams.apply(lambda row: count_bigram_occurrences(row, bigram), axis=1)\n",
        "\n",
        "df_bigrams = df_bigrams.fillna(0)"
      ],
      "metadata": {
        "id": "JZc_Zc7raD1n"
      },
      "execution_count": 25,
      "outputs": []
    },
    {
      "cell_type": "code",
      "source": [
        "pd.set_option('display.max_columns', None)\n",
        "\n",
        "print(df_bigrams.iloc[349])"
      ],
      "metadata": {
        "colab": {
          "base_uri": "https://localhost:8080/"
        },
        "id": "f_Z67sqZeOLF",
        "outputId": "f7e95876-bc06-45eb-d0e5-9408cda0de1a"
      },
      "execution_count": 26,
      "outputs": [
        {
          "output_type": "stream",
          "name": "stdout",
          "text": [
            "Unnamed: 0.4      349\n",
            "Unnamed: 0.3      349\n",
            "Unnamed: 0.2      349\n",
            "Unnamed: 0.1      349\n",
            "Unnamed: 0        349\n",
            "                 ... \n",
            "(want, use)         0\n",
            "(heavi, duti)       0\n",
            "(wear, -PRON-)      0\n",
            "(-PRON-, big)       0\n",
            "(live, room)        0\n",
            "Name: 349, Length: 84, dtype: object\n"
          ]
        }
      ]
    },
    {
      "cell_type": "markdown",
      "source": [
        "# **Model:**"
      ],
      "metadata": {
        "id": "wxOK5u6Ahc00"
      }
    },
    {
      "cell_type": "markdown",
      "source": [
        "##Imports:"
      ],
      "metadata": {
        "id": "nC5uq7wybzMF"
      }
    },
    {
      "cell_type": "code",
      "source": [
        "from sklearn.feature_extraction.text import CountVectorizer\n",
        "from sklearn.naive_bayes import MultinomialNB\n",
        "from sklearn.metrics import accuracy_score, classification_report, confusion_matrix\n",
        "from sklearn import metrics\n",
        "\n",
        "from keras.models import Sequential, Model\n",
        "from keras.layers import Conv2D, Dropout, MaxPooling2D, Input\n",
        "from keras.layers import BatchNormalization, Activation, Flatten, Dense\n",
        "from tensorflow.keras import initializers\n",
        "\n",
        "from sklearn.compose import ColumnTransformer\n",
        "from sklearn.pipeline import Pipeline\n",
        "from sklearn.preprocessing import StandardScaler\n",
        "from sklearn.preprocessing import OneHotEncoder\n",
        "from sklearn.preprocessing import RobustScaler\n"
      ],
      "metadata": {
        "id": "psquWVwN-0ah"
      },
      "execution_count": 27,
      "outputs": []
    },
    {
      "cell_type": "code",
      "source": [
        "def draw_roc_curve(y_test, y_score, title, c=\"blue\", line_width=1):\n",
        "  fpr_log_reg, tpr_log_reg, thresholds = metrics.roc_curve(y_test, y_score)\n",
        "  plt.figure(2)\n",
        "  aucroc = metrics.auc(fpr_log_reg, tpr_log_reg)\n",
        "  plt.plot(fpr_log_reg, tpr_log_reg, color=c, lw=line_width, label = 'AUC = %0.3f' % aucroc)\n",
        "  plt.title(title)\n",
        "  plt.xlabel('False Positive Rates')\n",
        "  plt.ylabel('True Positive Rates')\n",
        "  plt.legend(loc = 'lower right')\n",
        "  plt.show()\n",
        "  print()"
      ],
      "metadata": {
        "id": "jJPrXxJu-KVR"
      },
      "execution_count": 28,
      "outputs": []
    },
    {
      "cell_type": "markdown",
      "source": [
        "## Initialisation:"
      ],
      "metadata": {
        "id": "hRORL4ovb5K1"
      }
    },
    {
      "cell_type": "code",
      "source": [
        "#With Bigram Implementation\n",
        "features_bg = df_bigrams\n",
        "features_bg = features_bg.drop(['LABEL_ENCODED'], axis = 1)\n",
        "labels_bg = df_bigrams['LABEL_ENCODED']\n",
        "\n",
        "#Without Bigram Implementation\n",
        "features = df\n",
        "features = features.drop(['LABEL_ENCODED'], axis = 1)\n",
        "labels = df['LABEL_ENCODED']"
      ],
      "metadata": {
        "id": "PNVUFpCsACoA"
      },
      "execution_count": 29,
      "outputs": []
    },
    {
      "cell_type": "code",
      "source": [
        "x_train_bg, x_test_bg, y_train_bg, y_test_bg = train_test_split(features_bg, labels_bg, test_size = 0.2, random_state = 42)\n",
        "\n",
        "x_train, x_test, y_train, y_test = train_test_split(features, labels, test_size = 0.2, random_state = 42)"
      ],
      "metadata": {
        "id": "hKkx2otIctwZ"
      },
      "execution_count": 30,
      "outputs": []
    },
    {
      "cell_type": "code",
      "source": [
        "#Vectorize training and test data\n",
        "vectorizer = CountVectorizer()\n",
        "\n",
        "x_train_bg_vectorized = vectorizer.fit_transform(x_train_bg['REVIEW_TEXT'])\n",
        "x_test_bg_vectorized = vectorizer.transform(x_test_bg['REVIEW_TEXT'])\n",
        "\n",
        "x_train_vectorized = vectorizer.fit_transform(x_train['REVIEW_TEXT'])\n",
        "x_test_vectorized = vectorizer.transform(x_test['REVIEW_TEXT'])"
      ],
      "metadata": {
        "id": "qImEKA7sc3pc"
      },
      "execution_count": 31,
      "outputs": []
    },
    {
      "cell_type": "markdown",
      "source": [
        "## Decision Tree Classifier Model:"
      ],
      "metadata": {
        "id": "grFjXUuadKZd"
      }
    },
    {
      "cell_type": "code",
      "source": [
        "dtc_model_bg = DecisionTreeClassifier()\n",
        "\n",
        "#With Bigram Implementation\n",
        "dtc_model_bg.fit(x_train_bg_vectorized, y_train_bg)\n",
        "dtc_pred_bg = dtc_model_bg.predict(x_test_bg_vectorized)\n",
        "\n",
        "#Without Bigram Implementation\n",
        "dtc_model = DecisionTreeClassifier()\n",
        "dtc_model.fit(x_train_vectorized, y_train)\n",
        "dtc_pred = dtc_model.predict(x_test_vectorized)"
      ],
      "metadata": {
        "id": "Ac7JJqdgcmoX"
      },
      "execution_count": 32,
      "outputs": []
    },
    {
      "cell_type": "code",
      "source": [
        "# Metrics\n",
        "\n",
        "# With Bigram I\n",
        "dtc_accuracy_bg = accuracy_score(y_test_bg, dtc_pred_bg)\n",
        "dtc_confusion_matrix_bg = confusion_matrix(y_test_bg, dtc_pred_bg)\n",
        "\n",
        "print(\"Accuracy: \", round((dtc_accuracy_bg*100), 3), \"%\")\n",
        "print(\"Confusion Matrix:\\n\", dtc_confusion_matrix_bg)\n",
        "\n",
        "# ROC curve\n",
        "draw_roc_curve(y_test_bg, dtc_pred_bg, \"DTC\", c = \"blue\", line_width = 2)\n",
        "\n",
        "\n",
        "#Without Bigram I\n",
        "dtc_accuracy = accuracy_score(y_test, dtc_pred)\n",
        "dtc_confusion_matrix = confusion_matrix(y_test, dtc_pred)\n",
        "\n",
        "print(\"Accuracy: \", round((dtc_accuracy*100), 3), \"%\")\n",
        "print(\"Confusion Matrix:\\n\", dtc_confusion_matrix)\n",
        "\n",
        "draw_roc_curve(y_test, dtc_pred, \"DTC\", c = \"blue\", line_width = 2)"
      ],
      "metadata": {
        "colab": {
          "base_uri": "https://localhost:8080/",
          "height": 1000
        },
        "id": "7raSeGCGd2eb",
        "outputId": "447fa24a-b51a-4b24-ee2c-d1574a336613"
      },
      "execution_count": 33,
      "outputs": [
        {
          "output_type": "stream",
          "name": "stdout",
          "text": [
            "Accuracy:  55.071 %\n",
            "Confusion Matrix:\n",
            " [[1216  899]\n",
            " [ 988 1097]]\n"
          ]
        },
        {
          "output_type": "display_data",
          "data": {
            "text/plain": [
              "<Figure size 640x480 with 1 Axes>"
            ],
            "image/png": "[encoded data removed]"
          },
          "metadata": {}
        },
        {
          "output_type": "stream",
          "name": "stdout",
          "text": [
            "\n",
            "Accuracy:  54.19 %\n",
            "Confusion Matrix:\n",
            " [[1207  908]\n",
            " [1016 1069]]\n"
          ]
        },
        {
          "output_type": "display_data",
          "data": {
            "text/plain": [
              "<Figure size 640x480 with 1 Axes>"
            ],
            "image/png": "[encoded data removed]"
          },
          "metadata": {}
        },
        {
          "output_type": "stream",
          "name": "stdout",
          "text": [
            "\n"
          ]
        }
      ]
    },
    {
      "cell_type": "markdown",
      "source": [
        "## Naive Bayes Model:"
      ],
      "metadata": {
        "id": "W9nWT5vZfuuI"
      }
    },
    {
      "cell_type": "code",
      "source": [
        "bayes_model_bg = MultinomialNB()\n",
        "\n",
        "#With Bigram Implementation\n",
        "bayes_model_bg.fit(x_train_bg_vectorized, y_train_bg)\n",
        "bayes_pred_bg = bayes_model_bg.predict(x_test_bg_vectorized)\n",
        "\n",
        "\n",
        "#Without Bigram Implementation\n",
        "bayes_model = MultinomialNB()\n",
        "bayes_model.fit(x_train_vectorized, y_train)\n",
        "bayes_pred = bayes_model.predict(x_test_vectorized)"
      ],
      "metadata": {
        "id": "Klk0TB4Df2WQ"
      },
      "execution_count": 34,
      "outputs": []
    },
    {
      "cell_type": "code",
      "source": [
        "# Metrics\n",
        "\n",
        "# With Bigram I\n",
        "bayes_accuracy_bg = accuracy_score(y_test_bg, bayes_pred_bg)\n",
        "bayes_confusion_matrix_bg = confusion_matrix(y_test_bg, bayes_pred_bg)\n",
        "\n",
        "print(\"Accuracy: \", round((bayes_accuracy_bg*100), 3), \"%\")\n",
        "print(\"Confusion Matrix:\\n\", bayes_confusion_matrix_bg)\n",
        "\n",
        "# ROC curve\n",
        "draw_roc_curve(y_test_bg, bayes_pred_bg, \"Naive Bayes\", c = \"blue\", line_width = 2)\n",
        "\n",
        "\n",
        "#Without Bigram I\n",
        "bayes_accuracy = accuracy_score(y_test, bayes_pred)\n",
        "bayes_confusion_matrix = confusion_matrix(y_test, bayes_pred)\n",
        "\n",
        "print(\"Accuracy: \", round((bayes_accuracy*100), 3), \"%\")\n",
        "print(\"Confusion Matrix:\\n\", bayes_confusion_matrix)\n",
        "\n",
        "draw_roc_curve(y_test, bayes_pred, \"DTC\", c = \"blue\", line_width = 2)"
      ],
      "metadata": {
        "colab": {
          "base_uri": "https://localhost:8080/",
          "height": 1000
        },
        "id": "OllZesZCgDo7",
        "outputId": "08096868-25f7-42d9-fcb5-cbfc69b6480c"
      },
      "execution_count": 35,
      "outputs": [
        {
          "output_type": "stream",
          "name": "stdout",
          "text": [
            "Accuracy:  63.619 %\n",
            "Confusion Matrix:\n",
            " [[1500  615]\n",
            " [ 913 1172]]\n"
          ]
        },
        {
          "output_type": "display_data",
          "data": {
            "text/plain": [
              "<Figure size 640x480 with 1 Axes>"
            ],
            "image/png": "[encoded data removed]"
          },
          "metadata": {}
        },
        {
          "output_type": "stream",
          "name": "stdout",
          "text": [
            "\n",
            "Accuracy:  63.619 %\n",
            "Confusion Matrix:\n",
            " [[1500  615]\n",
            " [ 913 1172]]\n"
          ]
        },
        {
          "output_type": "display_data",
          "data": {
            "text/plain": [
              "<Figure size 640x480 with 1 Axes>"
            ],
            "image/png": "[encoded data removed]"
          },
          "metadata": {}
        },
        {
          "output_type": "stream",
          "name": "stdout",
          "text": [
            "\n"
          ]
        }
      ]
    },
    {
      "cell_type": "markdown",
      "source": [
        "#**Neural Network:**"
      ],
      "metadata": {
        "id": "5HgU288B2YUE"
      }
    },
    {
      "cell_type": "code",
      "source": [
        "x_train_bg_array = x_train_bg_vectorized.toarray()\n",
        "x_test_bg_array = x_test_bg_vectorized.toarray()\n",
        "\n",
        "# With Bigram I\n",
        "model_bg = Sequential()\n",
        "model_bg.add(Dense(256, activation='relu', input_shape=(x_train_bg_array.shape[1],)))\n",
        "model_bg.add(Dense(128, activation='relu'))\n",
        "model_bg.add(Dense(128, activation='relu'))\n",
        "model_bg.add(Dense(64, activation='relu'))\n",
        "model_bg.add(Dense(64, activation='relu'))\n",
        "model_bg.add(Dense(1, activation='sigmoid'))\n",
        "\n",
        "model_bg.compile(optimizer = 'adam', loss = 'binary_crossentropy', metrics = ['accuracy'])\n",
        "\n",
        "model_bg.fit(x_train_bg_array, y_train_bg, epochs = 5, batch_size = 32)\n",
        "\n",
        "#Metrics\n",
        "loss_bg , accuracy_bg = model_bg.evaluate(x_test_bg_array, y_test_bg)\n",
        "print(\"Test Accuracy: \", round((accuracy_bg*100), 3), \"%\")\n"
      ],
      "metadata": {
        "colab": {
          "base_uri": "https://localhost:8080/"
        },
        "id": "ZHZJWx8m2Xnh",
        "outputId": "871a7b2c-f194-41b0-e12a-88d9ccb4a98f"
      },
      "execution_count": 43,
      "outputs": [
        {
          "output_type": "stream",
          "name": "stdout",
          "text": [
            "Epoch 1/5\n",
            "525/525 [==============================] - 73s 136ms/step - loss: 0.6514 - accuracy: 0.6085\n",
            "Epoch 2/5\n",
            "525/525 [==============================] - 66s 126ms/step - loss: 0.4756 - accuracy: 0.7652\n",
            "Epoch 3/5\n",
            "525/525 [==============================] - 64s 121ms/step - loss: 0.1730 - accuracy: 0.9262\n",
            "Epoch 4/5\n",
            "525/525 [==============================] - 69s 132ms/step - loss: 0.0288 - accuracy: 0.9854\n",
            "Epoch 5/5\n",
            "525/525 [==============================] - 64s 122ms/step - loss: 0.0198 - accuracy: 0.9893\n",
            "132/132 [==============================] - 3s 20ms/step - loss: 3.6994 - accuracy: 0.6181\n",
            "Test Accuracy:  61.81 %\n"
          ]
        }
      ]
    },
    {
      "cell_type": "code",
      "source": [
        "x_train_array = x_train_vectorized.toarray()\n",
        "x_test_array = x_test_vectorized.toarray()\n",
        "\n",
        "#Without Bigram I\n",
        "model = Sequential()\n",
        "model.add(Dense(256, activation='relu', input_shape=(x_train_array.shape[1],)))\n",
        "model.add(Dense(128, activation='relu'))\n",
        "model.add(Dense(128, activation='relu'))\n",
        "model.add(Dense(64, activation='relu'))\n",
        "model.add(Dense(64, activation='relu'))\n",
        "model.add(Dense(1, activation='sigmoid'))\n",
        "\n",
        "model.compile(optimizer = 'adam', loss = 'binary_crossentropy', metrics = ['accuracy'])\n",
        "\n",
        "model.fit(x_train_array, y_train, epochs = 5, batch_size = 32)\n",
        "\n",
        "# Metrics\n",
        "loss, accuracy = model.evaluate(x_test_array, y_test)\n",
        "print(\"Test Accuracy: \", round((accuracy*100), 3), \"%\")"
      ],
      "metadata": {
        "colab": {
          "base_uri": "https://localhost:8080/",
          "height": 235
        },
        "id": "MEmiC5aG4i53",
        "outputId": "e4a58c68-a608-427e-d4fd-25059bde06bb"
      },
      "execution_count": 1,
      "outputs": [
        {
          "output_type": "error",
          "ename": "NameError",
          "evalue": "ignored",
          "traceback": [
            "\u001b[0;31m---------------------------------------------------------------------------\u001b[0m",
            "\u001b[0;31mNameError\u001b[0m                                 Traceback (most recent call last)",
            "\u001b[0;32m<ipython-input-1-ca3d79dbc7ec>\u001b[0m in \u001b[0;36m<cell line: 1>\u001b[0;34m()\u001b[0m\n\u001b[0;32m----> 1\u001b[0;31m \u001b[0mx_train_array\u001b[0m \u001b[0;34m=\u001b[0m \u001b[0mx_train_vectorized\u001b[0m\u001b[0;34m.\u001b[0m\u001b[0mtoarray\u001b[0m\u001b[0;34m(\u001b[0m\u001b[0;34m)\u001b[0m\u001b[0;34m\u001b[0m\u001b[0;34m\u001b[0m\u001b[0m\n\u001b[0m\u001b[1;32m      2\u001b[0m \u001b[0mx_test_array\u001b[0m \u001b[0;34m=\u001b[0m \u001b[0mx_test_vectorized\u001b[0m\u001b[0;34m.\u001b[0m\u001b[0mtoarray\u001b[0m\u001b[0;34m(\u001b[0m\u001b[0;34m)\u001b[0m\u001b[0;34m\u001b[0m\u001b[0;34m\u001b[0m\u001b[0m\n\u001b[1;32m      3\u001b[0m \u001b[0;34m\u001b[0m\u001b[0m\n\u001b[1;32m      4\u001b[0m \u001b[0;31m#Without Bigram I\u001b[0m\u001b[0;34m\u001b[0m\u001b[0;34m\u001b[0m\u001b[0m\n\u001b[1;32m      5\u001b[0m \u001b[0mmodel\u001b[0m \u001b[0;34m=\u001b[0m \u001b[0mSequential\u001b[0m\u001b[0;34m(\u001b[0m\u001b[0;34m)\u001b[0m\u001b[0;34m\u001b[0m\u001b[0;34m\u001b[0m\u001b[0m\n",
            "\u001b[0;31mNameError\u001b[0m: name 'x_train_vectorized' is not defined"
          ]
        }
      ]
    },
    {
      "cell_type": "markdown",
      "source": [
        "#Check:"
      ],
      "metadata": {
        "id": "K8IH87MajZLe"
      }
    },
    {
      "cell_type": "code",
      "source": [
        "df"
      ],
      "metadata": {
        "colab": {
          "base_uri": "https://localhost:8080/",
          "height": 1000
        },
        "id": "837ffDIOjrAY",
        "outputId": "ec24cc8b-7915-41d4-ee6d-e4b1ea714cc7"
      },
      "execution_count": 293,
      "outputs": [
        {
          "output_type": "execute_result",
          "data": {
            "text/plain": [
              "       RATING  VERIFIED_PURCHASE  \\\n",
              "0           4                  0   \n",
              "1           4                  1   \n",
              "2           3                  0   \n",
              "3           4                  0   \n",
              "4           4                  0   \n",
              "...       ...                ...   \n",
              "20995       4                  1   \n",
              "20996       4                  1   \n",
              "20997       5                  1   \n",
              "20998       5                  1   \n",
              "20999       4                  1   \n",
              "\n",
              "                                            REVIEW_TITLE  \\\n",
              "0                                                 useful   \n",
              "1                                  New era for batteries   \n",
              "2                               doesn't swing very well.   \n",
              "3                                       Great computing!   \n",
              "4                                  Only use twice a week   \n",
              "...                                                  ...   \n",
              "20995                               wide width is great!   \n",
              "20996                                        Love crocs!   \n",
              "20997  I love moccasins This fit like it was custom m...   \n",
              "20998        This fit well, comfortable, best investment   \n",
              "20999             Love these shoes, except for the laces   \n",
              "\n",
              "                                             REVIEW_TEXT  REVIEW_LENGTH  \\\n",
              "0             think so product save day case need someth            116   \n",
              "1      lithium batteri new introduc market averag dev...            404   \n",
              "2      purchas swing babi 6 month pretti grow -pron- ...            248   \n",
              "3      look inexpen desk calcolatur be work ne issu t...            212   \n",
              "4      use twice week result great tooth whiten solut...            331   \n",
              "...                                                  ...            ...   \n",
              "20995      buy work high arch use arch support heel high            100   \n",
              "20996  croc brand shoe foot day work love cross unise...            115   \n",
              "20997  love moccasin fit like custom mebr veri soft c...            297   \n",
              "20998  wish littl durabl get catch bolt cross bunk fe...            287   \n",
              "20999                                             #NAME?            742   \n",
              "\n",
              "       SENTIMENT_SCORE  TITLE_LENGTH  NUM_REVIEWS  SENTIMENT_CATEGORY_ENCODED  \\\n",
              "0               0.5390             6            1                           1   \n",
              "1               0.2960            21            2                           1   \n",
              "2               0.4059            24            1                           1   \n",
              "3               0.0000            16            2                           0   \n",
              "4               0.6249            21            2                           1   \n",
              "...                ...           ...          ...                         ...   \n",
              "20995           0.4019            20            1                           1   \n",
              "20996           0.6369            11            1                           1   \n",
              "20997           0.9182            57            1                           1   \n",
              "20998           0.7964            43            1                           1   \n",
              "20999           0.6597            38            1                           1   \n",
              "\n",
              "       RATING_CATEGORY_ENCODED  LABEL_ENCODED  \\\n",
              "0                            1              0   \n",
              "1                            1              0   \n",
              "2                            1              0   \n",
              "3                            1              0   \n",
              "4                            1              0   \n",
              "...                        ...            ...   \n",
              "20995                        1              1   \n",
              "20996                        1              1   \n",
              "20997                        1              1   \n",
              "20998                        1              1   \n",
              "20999                        1              1   \n",
              "\n",
              "                                PREPROCESSED_REVIEW_TEXT  WORD_COUNT  \\\n",
              "0                think product save day case need someth           8   \n",
              "1      lithium batteri new introduc market averag dev...          37   \n",
              "2      purcha swing babi 6 month pretti grow -pron- l...          24   \n",
              "3      look inexpen desk calcolatur work ne issu tilt...          17   \n",
              "4      use twice week result great tooth whiten solut...          20   \n",
              "...                                                  ...         ...   \n",
              "20995      buy work high arch use arch support heel high           9   \n",
              "20996  croc brand shoe foot day work love cross unise...          11   \n",
              "20997  love moccasin fit like custom mebr veri soft c...          25   \n",
              "20998  wish littl durabl catch bolt cross bunk feed c...          28   \n",
              "20999                                             #NAME?          66   \n",
              "\n",
              "       PROP_NOUNS  PROP_VERBS  PROP_ADJECTIVES  PROP_ADVERBS  \n",
              "0        0.500000    0.625000         0.125000      0.625000  \n",
              "1        0.405405    0.405405         0.324324      0.135135  \n",
              "2        0.291667    0.541667         0.166667      0.416667  \n",
              "3        0.470588    0.588235         0.235294      0.294118  \n",
              "4        0.700000    0.600000         0.350000      0.200000  \n",
              "...           ...         ...              ...           ...  \n",
              "20995    0.444444    0.444444         0.333333      0.222222  \n",
              "20996    0.636364    0.363636         0.363636      0.090909  \n",
              "20997    0.320000    0.560000         0.240000      0.240000  \n",
              "20998    0.428571    0.464286         0.142857      0.035714  \n",
              "20999    0.318182    0.515152         0.151515      0.181818  \n",
              "\n",
              "[21000 rows x 17 columns]"
            ],
            "text/html": [
              "\n",
              "\n",
              "  <div id=\"df-8dffeeab-f060-4d4b-835f-fd3b5bced062\">\n",
              "    <div class=\"colab-df-container\">\n",
              "      <div>\n",
              "<style scoped>\n",
              "    .dataframe tbody tr th:only-of-type {\n",
              "        vertical-align: middle;\n",
              "    }\n",
              "\n",
              "    .dataframe tbody tr th {\n",
              "        vertical-align: top;\n",
              "    }\n",
              "\n",
              "    .dataframe thead th {\n",
              "        text-align: right;\n",
              "    }\n",
              "</style>\n",
              "<table border=\"1\" class=\"dataframe\">\n",
              "  <thead>\n",
              "    <tr style=\"text-align: right;\">\n",
              "      <th></th>\n",
              "      <th>RATING</th>\n",
              "      <th>VERIFIED_PURCHASE</th>\n",
              "      <th>REVIEW_TITLE</th>\n",
              "      <th>REVIEW_TEXT</th>\n",
              "      <th>REVIEW_LENGTH</th>\n",
              "      <th>SENTIMENT_SCORE</th>\n",
              "      <th>TITLE_LENGTH</th>\n",
              "      <th>NUM_REVIEWS</th>\n",
              "      <th>SENTIMENT_CATEGORY_ENCODED</th>\n",
              "      <th>RATING_CATEGORY_ENCODED</th>\n",
              "      <th>LABEL_ENCODED</th>\n",
              "      <th>PREPROCESSED_REVIEW_TEXT</th>\n",
              "      <th>WORD_COUNT</th>\n",
              "      <th>PROP_NOUNS</th>\n",
              "      <th>PROP_VERBS</th>\n",
              "      <th>PROP_ADJECTIVES</th>\n",
              "      <th>PROP_ADVERBS</th>\n",
              "    </tr>\n",
              "  </thead>\n",
              "  <tbody>\n",
              "    <tr>\n",
              "      <th>0</th>\n",
              "      <td>4</td>\n",
              "      <td>0</td>\n",
              "      <td>useful</td>\n",
              "      <td>think so product save day case need someth</td>\n",
              "      <td>116</td>\n",
              "      <td>0.5390</td>\n",
              "      <td>6</td>\n",
              "      <td>1</td>\n",
              "      <td>1</td>\n",
              "      <td>1</td>\n",
              "      <td>0</td>\n",
              "      <td>think product save day case need someth</td>\n",
              "      <td>8</td>\n",
              "      <td>0.500000</td>\n",
              "      <td>0.625000</td>\n",
              "      <td>0.125000</td>\n",
              "      <td>0.625000</td>\n",
              "    </tr>\n",
              "    <tr>\n",
              "      <th>1</th>\n",
              "      <td>4</td>\n",
              "      <td>1</td>\n",
              "      <td>New era for batteries</td>\n",
              "      <td>lithium batteri new introduc market averag dev...</td>\n",
              "      <td>404</td>\n",
              "      <td>0.2960</td>\n",
              "      <td>21</td>\n",
              "      <td>2</td>\n",
              "      <td>1</td>\n",
              "      <td>1</td>\n",
              "      <td>0</td>\n",
              "      <td>lithium batteri new introduc market averag dev...</td>\n",
              "      <td>37</td>\n",
              "      <td>0.405405</td>\n",
              "      <td>0.405405</td>\n",
              "      <td>0.324324</td>\n",
              "      <td>0.135135</td>\n",
              "    </tr>\n",
              "    <tr>\n",
              "      <th>2</th>\n",
              "      <td>3</td>\n",
              "      <td>0</td>\n",
              "      <td>doesn't swing very well.</td>\n",
              "      <td>purchas swing babi 6 month pretti grow -pron- ...</td>\n",
              "      <td>248</td>\n",
              "      <td>0.4059</td>\n",
              "      <td>24</td>\n",
              "      <td>1</td>\n",
              "      <td>1</td>\n",
              "      <td>1</td>\n",
              "      <td>0</td>\n",
              "      <td>purcha swing babi 6 month pretti grow -pron- l...</td>\n",
              "      <td>24</td>\n",
              "      <td>0.291667</td>\n",
              "      <td>0.541667</td>\n",
              "      <td>0.166667</td>\n",
              "      <td>0.416667</td>\n",
              "    </tr>\n",
              "    <tr>\n",
              "      <th>3</th>\n",
              "      <td>4</td>\n",
              "      <td>0</td>\n",
              "      <td>Great computing!</td>\n",
              "      <td>look inexpen desk calcolatur be work ne issu t...</td>\n",
              "      <td>212</td>\n",
              "      <td>0.0000</td>\n",
              "      <td>16</td>\n",
              "      <td>2</td>\n",
              "      <td>0</td>\n",
              "      <td>1</td>\n",
              "      <td>0</td>\n",
              "      <td>look inexpen desk calcolatur work ne issu tilt...</td>\n",
              "      <td>17</td>\n",
              "      <td>0.470588</td>\n",
              "      <td>0.588235</td>\n",
              "      <td>0.235294</td>\n",
              "      <td>0.294118</td>\n",
              "    </tr>\n",
              "    <tr>\n",
              "      <th>4</th>\n",
              "      <td>4</td>\n",
              "      <td>0</td>\n",
              "      <td>Only use twice a week</td>\n",
              "      <td>use twice week result great tooth whiten solut...</td>\n",
              "      <td>331</td>\n",
              "      <td>0.6249</td>\n",
              "      <td>21</td>\n",
              "      <td>2</td>\n",
              "      <td>1</td>\n",
              "      <td>1</td>\n",
              "      <td>0</td>\n",
              "      <td>use twice week result great tooth whiten solut...</td>\n",
              "      <td>20</td>\n",
              "      <td>0.700000</td>\n",
              "      <td>0.600000</td>\n",
              "      <td>0.350000</td>\n",
              "      <td>0.200000</td>\n",
              "    </tr>\n",
              "    <tr>\n",
              "      <th>...</th>\n",
              "      <td>...</td>\n",
              "      <td>...</td>\n",
              "      <td>...</td>\n",
              "      <td>...</td>\n",
              "      <td>...</td>\n",
              "      <td>...</td>\n",
              "      <td>...</td>\n",
              "      <td>...</td>\n",
              "      <td>...</td>\n",
              "      <td>...</td>\n",
              "      <td>...</td>\n",
              "      <td>...</td>\n",
              "      <td>...</td>\n",
              "      <td>...</td>\n",
              "      <td>...</td>\n",
              "      <td>...</td>\n",
              "      <td>...</td>\n",
              "    </tr>\n",
              "    <tr>\n",
              "      <th>20995</th>\n",
              "      <td>4</td>\n",
              "      <td>1</td>\n",
              "      <td>wide width is great!</td>\n",
              "      <td>buy work high arch use arch support heel high</td>\n",
              "      <td>100</td>\n",
              "      <td>0.4019</td>\n",
              "      <td>20</td>\n",
              "      <td>1</td>\n",
              "      <td>1</td>\n",
              "      <td>1</td>\n",
              "      <td>1</td>\n",
              "      <td>buy work high arch use arch support heel high</td>\n",
              "      <td>9</td>\n",
              "      <td>0.444444</td>\n",
              "      <td>0.444444</td>\n",
              "      <td>0.333333</td>\n",
              "      <td>0.222222</td>\n",
              "    </tr>\n",
              "    <tr>\n",
              "      <th>20996</th>\n",
              "      <td>4</td>\n",
              "      <td>1</td>\n",
              "      <td>Love crocs!</td>\n",
              "      <td>croc brand shoe foot day work love cross unise...</td>\n",
              "      <td>115</td>\n",
              "      <td>0.6369</td>\n",
              "      <td>11</td>\n",
              "      <td>1</td>\n",
              "      <td>1</td>\n",
              "      <td>1</td>\n",
              "      <td>1</td>\n",
              "      <td>croc brand shoe foot day work love cross unise...</td>\n",
              "      <td>11</td>\n",
              "      <td>0.636364</td>\n",
              "      <td>0.363636</td>\n",
              "      <td>0.363636</td>\n",
              "      <td>0.090909</td>\n",
              "    </tr>\n",
              "    <tr>\n",
              "      <th>20997</th>\n",
              "      <td>5</td>\n",
              "      <td>1</td>\n",
              "      <td>I love moccasins This fit like it was custom m...</td>\n",
              "      <td>love moccasin fit like custom mebr veri soft c...</td>\n",
              "      <td>297</td>\n",
              "      <td>0.9182</td>\n",
              "      <td>57</td>\n",
              "      <td>1</td>\n",
              "      <td>1</td>\n",
              "      <td>1</td>\n",
              "      <td>1</td>\n",
              "      <td>love moccasin fit like custom mebr veri soft c...</td>\n",
              "      <td>25</td>\n",
              "      <td>0.320000</td>\n",
              "      <td>0.560000</td>\n",
              "      <td>0.240000</td>\n",
              "      <td>0.240000</td>\n",
              "    </tr>\n",
              "    <tr>\n",
              "      <th>20998</th>\n",
              "      <td>5</td>\n",
              "      <td>1</td>\n",
              "      <td>This fit well, comfortable, best investment</td>\n",
              "      <td>wish littl durabl get catch bolt cross bunk fe...</td>\n",
              "      <td>287</td>\n",
              "      <td>0.7964</td>\n",
              "      <td>43</td>\n",
              "      <td>1</td>\n",
              "      <td>1</td>\n",
              "      <td>1</td>\n",
              "      <td>1</td>\n",
              "      <td>wish littl durabl catch bolt cross bunk feed c...</td>\n",
              "      <td>28</td>\n",
              "      <td>0.428571</td>\n",
              "      <td>0.464286</td>\n",
              "      <td>0.142857</td>\n",
              "      <td>0.035714</td>\n",
              "    </tr>\n",
              "    <tr>\n",
              "      <th>20999</th>\n",
              "      <td>4</td>\n",
              "      <td>1</td>\n",
              "      <td>Love these shoes, except for the laces</td>\n",
              "      <td>#NAME?</td>\n",
              "      <td>742</td>\n",
              "      <td>0.6597</td>\n",
              "      <td>38</td>\n",
              "      <td>1</td>\n",
              "      <td>1</td>\n",
              "      <td>1</td>\n",
              "      <td>1</td>\n",
              "      <td>#NAME?</td>\n",
              "      <td>66</td>\n",
              "      <td>0.318182</td>\n",
              "      <td>0.515152</td>\n",
              "      <td>0.151515</td>\n",
              "      <td>0.181818</td>\n",
              "    </tr>\n",
              "  </tbody>\n",
              "</table>\n",
              "<p>21000 rows × 17 columns</p>\n",
              "</div>\n",
              "      <button class=\"colab-df-convert\" onclick=\"convertToInteractive('df-8dffeeab-f060-4d4b-835f-fd3b5bced062')\"\n",
              "              title=\"Convert this dataframe to an interactive table.\"\n",
              "              style=\"display:none;\">\n",
              "\n",
              "  <svg xmlns=\"http://www.w3.org/2000/svg\" height=\"24px\"viewBox=\"0 0 24 24\"\n",
              "       width=\"24px\">\n",
              "    <path d=\"M0 0h24v24H0V0z\" fill=\"none\"/>\n",
              "    <path d=\"M18.56 5.44l.94 2.06.94-2.06 2.06-.94-2.06-.94-.94-2.06-.94 2.06-2.06.94zm-11 1L8.5 8.5l.94-2.06 2.06-.94-2.06-.94L8.5 2.5l-.94 2.06-2.06.94zm10 10l.94 2.06.94-2.06 2.06-.94-2.06-.94-.94-2.06-.94 2.06-2.06.94z\"/><path d=\"M17.41 7.96l-1.37-1.37c-.4-.4-.92-.59-1.43-.59-.52 0-1.04.2-1.43.59L10.3 9.45l-7.72 7.72c-.78.78-.78 2.05 0 2.83L4 21.41c.39.39.9.59 1.41.59.51 0 1.02-.2 1.41-.59l7.78-7.78 2.81-2.81c.8-.78.8-2.07 0-2.86zM5.41 20L4 18.59l7.72-7.72 1.47 1.35L5.41 20z\"/>\n",
              "  </svg>\n",
              "      </button>\n",
              "\n",
              "\n",
              "\n",
              "    <div id=\"df-fa7059a2-3496-44bd-ba11-4546931361a4\">\n",
              "      <button class=\"colab-df-quickchart\" onclick=\"quickchart('df-fa7059a2-3496-44bd-ba11-4546931361a4')\"\n",
              "              title=\"Suggest charts.\"\n",
              "              style=\"display:none;\">\n",
              "\n",
              "<svg xmlns=\"http://www.w3.org/2000/svg\" height=\"24px\"viewBox=\"0 0 24 24\"\n",
              "     width=\"24px\">\n",
              "    <g>\n",
              "        <path d=\"M19 3H5c-1.1 0-2 .9-2 2v14c0 1.1.9 2 2 2h14c1.1 0 2-.9 2-2V5c0-1.1-.9-2-2-2zM9 17H7v-7h2v7zm4 0h-2V7h2v10zm4 0h-2v-4h2v4z\"/>\n",
              "    </g>\n",
              "</svg>\n",
              "      </button>\n",
              "    </div>\n",
              "\n",
              "<style>\n",
              "  .colab-df-quickchart {\n",
              "    background-color: #E8F0FE;\n",
              "    border: none;\n",
              "    border-radius: 50%;\n",
              "    cursor: pointer;\n",
              "    display: none;\n",
              "    fill: #1967D2;\n",
              "    height: 32px;\n",
              "    padding: 0 0 0 0;\n",
              "    width: 32px;\n",
              "  }\n",
              "\n",
              "  .colab-df-quickchart:hover {\n",
              "    background-color: #E2EBFA;\n",
              "    box-shadow: 0px 1px 2px rgba(60, 64, 67, 0.3), 0px 1px 3px 1px rgba(60, 64, 67, 0.15);\n",
              "    fill: #174EA6;\n",
              "  }\n",
              "\n",
              "  [theme=dark] .colab-df-quickchart {\n",
              "    background-color: #3B4455;\n",
              "    fill: #D2E3FC;\n",
              "  }\n",
              "\n",
              "  [theme=dark] .colab-df-quickchart:hover {\n",
              "    background-color: #434B5C;\n",
              "    box-shadow: 0px 1px 3px 1px rgba(0, 0, 0, 0.15);\n",
              "    filter: drop-shadow(0px 1px 2px rgba(0, 0, 0, 0.3));\n",
              "    fill: #FFFFFF;\n",
              "  }\n",
              "</style>\n",
              "\n",
              "    <script>\n",
              "      async function quickchart(key) {\n",
              "        const containerElement = document.querySelector('#' + key);\n",
              "        const charts = await google.colab.kernel.invokeFunction(\n",
              "            'suggestCharts', [key], {});\n",
              "      }\n",
              "    </script>\n",
              "\n",
              "      <script>\n",
              "\n",
              "function displayQuickchartButton(domScope) {\n",
              "  let quickchartButtonEl =\n",
              "    domScope.querySelector('#df-fa7059a2-3496-44bd-ba11-4546931361a4 button.colab-df-quickchart');\n",
              "  quickchartButtonEl.style.display =\n",
              "    google.colab.kernel.accessAllowed ? 'block' : 'none';\n",
              "}\n",
              "\n",
              "        displayQuickchartButton(document);\n",
              "      </script>\n",
              "      <style>\n",
              "    .colab-df-container {\n",
              "      display:flex;\n",
              "      flex-wrap:wrap;\n",
              "      gap: 12px;\n",
              "    }\n",
              "\n",
              "    .colab-df-convert {\n",
              "      background-color: #E8F0FE;\n",
              "      border: none;\n",
              "      border-radius: 50%;\n",
              "      cursor: pointer;\n",
              "      display: none;\n",
              "      fill: #1967D2;\n",
              "      height: 32px;\n",
              "      padding: 0 0 0 0;\n",
              "      width: 32px;\n",
              "    }\n",
              "\n",
              "    .colab-df-convert:hover {\n",
              "      background-color: #E2EBFA;\n",
              "      box-shadow: 0px 1px 2px rgba(60, 64, 67, 0.3), 0px 1px 3px 1px rgba(60, 64, 67, 0.15);\n",
              "      fill: #174EA6;\n",
              "    }\n",
              "\n",
              "    [theme=dark] .colab-df-convert {\n",
              "      background-color: #3B4455;\n",
              "      fill: #D2E3FC;\n",
              "    }\n",
              "\n",
              "    [theme=dark] .colab-df-convert:hover {\n",
              "      background-color: #434B5C;\n",
              "      box-shadow: 0px 1px 3px 1px rgba(0, 0, 0, 0.15);\n",
              "      filter: drop-shadow(0px 1px 2px rgba(0, 0, 0, 0.3));\n",
              "      fill: #FFFFFF;\n",
              "    }\n",
              "  </style>\n",
              "\n",
              "      <script>\n",
              "        const buttonEl =\n",
              "          document.querySelector('#df-8dffeeab-f060-4d4b-835f-fd3b5bced062 button.colab-df-convert');\n",
              "        buttonEl.style.display =\n",
              "          google.colab.kernel.accessAllowed ? 'block' : 'none';\n",
              "\n",
              "        async function convertToInteractive(key) {\n",
              "          const element = document.querySelector('#df-8dffeeab-f060-4d4b-835f-fd3b5bced062');\n",
              "          const dataTable =\n",
              "            await google.colab.kernel.invokeFunction('convertToInteractive',\n",
              "                                                     [key], {});\n",
              "          if (!dataTable) return;\n",
              "\n",
              "          const docLinkHtml = 'Like what you see? Visit the ' +\n",
              "            '<a target=\"_blank\" href=https://colab.research.google.com/notebooks/data_table.ipynb>data table notebook</a>'\n",
              "            + ' to learn more about interactive tables.';\n",
              "          element.innerHTML = '';\n",
              "          dataTable['output_type'] = 'display_data';\n",
              "          await google.colab.output.renderOutput(dataTable, element);\n",
              "          const docLink = document.createElement('div');\n",
              "          docLink.innerHTML = docLinkHtml;\n",
              "          element.appendChild(docLink);\n",
              "        }\n",
              "      </script>\n",
              "    </div>\n",
              "  </div>\n"
            ]
          },
          "metadata": {},
          "execution_count": 293
        }
      ]
    },
    {
      "cell_type": "markdown",
      "source": [
        "##Otherr:"
      ],
      "metadata": {
        "id": "PmFMMMWUci68"
      }
    },
    {
      "cell_type": "code",
      "source": [
        "x_train, x_test, y_train, y_test = train_test_split(features, labels, test_size = 0.3, random_state = 42)\n",
        "x_train.columns = x_train.columns.astype(str)\n",
        "#x_test = [str(item) for item in x_test]\n",
        "\n",
        "vectorizer = CountVectorizer()\n",
        "#x_train_vectorized = vectorizer.fit_transform(x_train)\n",
        "#x_test_vectorized = vectorizer.transform(x_test)\n"
      ],
      "metadata": {
        "id": "XqUfSgsPhgw1",
        "colab": {
          "base_uri": "https://localhost:8080/",
          "height": 432
        },
        "outputId": "6071a761-ecb7-42a5-aa1a-1c6241bf6c3e"
      },
      "execution_count": 79,
      "outputs": [
        {
          "output_type": "error",
          "ename": "TypeError",
          "evalue": "ignored",
          "traceback": [
            "\u001b[0;31m---------------------------------------------------------------------------\u001b[0m",
            "\u001b[0;31mValueError\u001b[0m                                Traceback (most recent call last)",
            "\u001b[0;32m/usr/local/lib/python3.10/dist-packages/pandas/core/indexes/base.py\u001b[0m in \u001b[0;36mastype\u001b[0;34m(self, dtype, copy)\u001b[0m\n\u001b[1;32m   1112\u001b[0m                     \u001b[0;31m# GH#38607\u001b[0m\u001b[0;34m\u001b[0m\u001b[0;34m\u001b[0m\u001b[0m\n\u001b[0;32m-> 1113\u001b[0;31m                     \u001b[0mnew_values\u001b[0m \u001b[0;34m=\u001b[0m \u001b[0mvalues\u001b[0m\u001b[0;34m.\u001b[0m\u001b[0mastype\u001b[0m\u001b[0;34m(\u001b[0m\u001b[0mdtype\u001b[0m\u001b[0;34m,\u001b[0m \u001b[0mcopy\u001b[0m\u001b[0;34m=\u001b[0m\u001b[0mcopy\u001b[0m\u001b[0;34m)\u001b[0m\u001b[0;34m\u001b[0m\u001b[0;34m\u001b[0m\u001b[0m\n\u001b[0m\u001b[1;32m   1114\u001b[0m                 \u001b[0;32melse\u001b[0m\u001b[0;34m:\u001b[0m\u001b[0;34m\u001b[0m\u001b[0;34m\u001b[0m\u001b[0m\n",
            "\u001b[0;31mValueError\u001b[0m: setting an array element with a sequence",
            "\nThe above exception was the direct cause of the following exception:\n",
            "\u001b[0;31mTypeError\u001b[0m                                 Traceback (most recent call last)",
            "\u001b[0;32m<ipython-input-79-281d06df37f9>\u001b[0m in \u001b[0;36m<cell line: 2>\u001b[0;34m()\u001b[0m\n\u001b[1;32m      1\u001b[0m \u001b[0mx_train\u001b[0m\u001b[0;34m,\u001b[0m \u001b[0mx_test\u001b[0m\u001b[0;34m,\u001b[0m \u001b[0my_train\u001b[0m\u001b[0;34m,\u001b[0m \u001b[0my_test\u001b[0m \u001b[0;34m=\u001b[0m \u001b[0mtrain_test_split\u001b[0m\u001b[0;34m(\u001b[0m\u001b[0mfeatures\u001b[0m\u001b[0;34m,\u001b[0m \u001b[0mlabels\u001b[0m\u001b[0;34m,\u001b[0m \u001b[0mtest_size\u001b[0m \u001b[0;34m=\u001b[0m \u001b[0;36m0.3\u001b[0m\u001b[0;34m,\u001b[0m \u001b[0mrandom_state\u001b[0m \u001b[0;34m=\u001b[0m \u001b[0;36m42\u001b[0m\u001b[0;34m)\u001b[0m\u001b[0;34m\u001b[0m\u001b[0;34m\u001b[0m\u001b[0m\n\u001b[0;32m----> 2\u001b[0;31m \u001b[0mx_train\u001b[0m\u001b[0;34m.\u001b[0m\u001b[0mcolumns\u001b[0m \u001b[0;34m=\u001b[0m \u001b[0mx_train\u001b[0m\u001b[0;34m.\u001b[0m\u001b[0mcolumns\u001b[0m\u001b[0;34m.\u001b[0m\u001b[0mastype\u001b[0m\u001b[0;34m(\u001b[0m\u001b[0mstr\u001b[0m\u001b[0;34m)\u001b[0m\u001b[0;34m\u001b[0m\u001b[0;34m\u001b[0m\u001b[0m\n\u001b[0m\u001b[1;32m      3\u001b[0m \u001b[0;31m#x_test = [str(item) for item in x_test]\u001b[0m\u001b[0;34m\u001b[0m\u001b[0;34m\u001b[0m\u001b[0m\n\u001b[1;32m      4\u001b[0m \u001b[0;34m\u001b[0m\u001b[0m\n\u001b[1;32m      5\u001b[0m \u001b[0mvectorizer\u001b[0m \u001b[0;34m=\u001b[0m \u001b[0mCountVectorizer\u001b[0m\u001b[0;34m(\u001b[0m\u001b[0;34m)\u001b[0m\u001b[0;34m\u001b[0m\u001b[0;34m\u001b[0m\u001b[0m\n",
            "\u001b[0;32m/usr/local/lib/python3.10/dist-packages/pandas/core/indexes/base.py\u001b[0m in \u001b[0;36mastype\u001b[0;34m(self, dtype, copy)\u001b[0m\n\u001b[1;32m   1121\u001b[0m                     \u001b[0;31m# keep the message from _astype_float_to_int_nansafe\u001b[0m\u001b[0;34m\u001b[0m\u001b[0;34m\u001b[0m\u001b[0m\n\u001b[1;32m   1122\u001b[0m                     \u001b[0;32mraise\u001b[0m\u001b[0;34m\u001b[0m\u001b[0;34m\u001b[0m\u001b[0m\n\u001b[0;32m-> 1123\u001b[0;31m                 raise TypeError(\n\u001b[0m\u001b[1;32m   1124\u001b[0m                     \u001b[0;34mf\"Cannot cast {type(self).__name__} to dtype {dtype}\"\u001b[0m\u001b[0;34m\u001b[0m\u001b[0;34m\u001b[0m\u001b[0m\n\u001b[1;32m   1125\u001b[0m                 ) from err\n",
            "\u001b[0;31mTypeError\u001b[0m: Cannot cast Index to dtype <U0"
          ]
        }
      ]
    },
    {
      "cell_type": "code",
      "source": [
        "model = DecisionTreeClassifier()\n",
        "model.fit(x_train,y_train)\n",
        "\n",
        "pred = classifier.predict(x_test_vectorized)\n",
        "\n",
        "accuracy = accuracy_score(y_test, pred)\n",
        "report = classification_report(y_test, pred, target_names=df_bigrams.target_names)\n",
        "confusion_mat = confusion_matrix(y_test, pred)\n",
        "\n",
        "print(\"Accuracy:\", accuracy)\n",
        "print(\"Classification Report:\\n\", report)\n",
        "print(\"Confusion Matrix:\\n\", confusion_mat)\n",
        "\n",
        "draw_roc_curve(y_test, pred, \"Multinomial Naive Bayes\", c=\"blue\", line_width=1)"
      ],
      "metadata": {
        "colab": {
          "base_uri": "https://localhost:8080/",
          "height": 415
        },
        "id": "9dwdymw66uDv",
        "outputId": "41783159-0af1-40bc-be9d-9794cb07e063"
      },
      "execution_count": 78,
      "outputs": [
        {
          "output_type": "error",
          "ename": "TypeError",
          "evalue": "ignored",
          "traceback": [
            "\u001b[0;31m---------------------------------------------------------------------------\u001b[0m",
            "\u001b[0;31mTypeError\u001b[0m                                 Traceback (most recent call last)",
            "\u001b[0;32m<ipython-input-78-b778e168c00d>\u001b[0m in \u001b[0;36m<cell line: 2>\u001b[0;34m()\u001b[0m\n\u001b[1;32m      1\u001b[0m \u001b[0mmodel\u001b[0m \u001b[0;34m=\u001b[0m \u001b[0mDecisionTreeClassifier\u001b[0m\u001b[0;34m(\u001b[0m\u001b[0;34m)\u001b[0m\u001b[0;34m\u001b[0m\u001b[0;34m\u001b[0m\u001b[0m\n\u001b[0;32m----> 2\u001b[0;31m \u001b[0mmodel\u001b[0m\u001b[0;34m.\u001b[0m\u001b[0mfit\u001b[0m\u001b[0;34m(\u001b[0m\u001b[0mx_train\u001b[0m\u001b[0;34m,\u001b[0m\u001b[0my_train\u001b[0m\u001b[0;34m)\u001b[0m\u001b[0;34m\u001b[0m\u001b[0;34m\u001b[0m\u001b[0m\n\u001b[0m\u001b[1;32m      3\u001b[0m \u001b[0;34m\u001b[0m\u001b[0m\n\u001b[1;32m      4\u001b[0m \u001b[0mpred\u001b[0m \u001b[0;34m=\u001b[0m \u001b[0mclassifier\u001b[0m\u001b[0;34m.\u001b[0m\u001b[0mpredict\u001b[0m\u001b[0;34m(\u001b[0m\u001b[0mx_test_vectorized\u001b[0m\u001b[0;34m)\u001b[0m\u001b[0;34m\u001b[0m\u001b[0;34m\u001b[0m\u001b[0m\n\u001b[1;32m      5\u001b[0m \u001b[0;34m\u001b[0m\u001b[0m\n",
            "\u001b[0;32m/usr/local/lib/python3.10/dist-packages/sklearn/tree/_classes.py\u001b[0m in \u001b[0;36mfit\u001b[0;34m(self, X, y, sample_weight, check_input)\u001b[0m\n\u001b[1;32m    887\u001b[0m         \"\"\"\n\u001b[1;32m    888\u001b[0m \u001b[0;34m\u001b[0m\u001b[0m\n\u001b[0;32m--> 889\u001b[0;31m         super().fit(\n\u001b[0m\u001b[1;32m    890\u001b[0m             \u001b[0mX\u001b[0m\u001b[0;34m,\u001b[0m\u001b[0;34m\u001b[0m\u001b[0;34m\u001b[0m\u001b[0m\n\u001b[1;32m    891\u001b[0m             \u001b[0my\u001b[0m\u001b[0;34m,\u001b[0m\u001b[0;34m\u001b[0m\u001b[0;34m\u001b[0m\u001b[0m\n",
            "\u001b[0;32m/usr/local/lib/python3.10/dist-packages/sklearn/tree/_classes.py\u001b[0m in \u001b[0;36mfit\u001b[0;34m(self, X, y, sample_weight, check_input)\u001b[0m\n\u001b[1;32m    184\u001b[0m             \u001b[0mcheck_X_params\u001b[0m \u001b[0;34m=\u001b[0m \u001b[0mdict\u001b[0m\u001b[0;34m(\u001b[0m\u001b[0mdtype\u001b[0m\u001b[0;34m=\u001b[0m\u001b[0mDTYPE\u001b[0m\u001b[0;34m,\u001b[0m \u001b[0maccept_sparse\u001b[0m\u001b[0;34m=\u001b[0m\u001b[0;34m\"csc\"\u001b[0m\u001b[0;34m)\u001b[0m\u001b[0;34m\u001b[0m\u001b[0;34m\u001b[0m\u001b[0m\n\u001b[1;32m    185\u001b[0m             \u001b[0mcheck_y_params\u001b[0m \u001b[0;34m=\u001b[0m \u001b[0mdict\u001b[0m\u001b[0;34m(\u001b[0m\u001b[0mensure_2d\u001b[0m\u001b[0;34m=\u001b[0m\u001b[0;32mFalse\u001b[0m\u001b[0;34m,\u001b[0m \u001b[0mdtype\u001b[0m\u001b[0;34m=\u001b[0m\u001b[0;32mNone\u001b[0m\u001b[0;34m)\u001b[0m\u001b[0;34m\u001b[0m\u001b[0;34m\u001b[0m\u001b[0m\n\u001b[0;32m--> 186\u001b[0;31m             X, y = self._validate_data(\n\u001b[0m\u001b[1;32m    187\u001b[0m                 \u001b[0mX\u001b[0m\u001b[0;34m,\u001b[0m \u001b[0my\u001b[0m\u001b[0;34m,\u001b[0m \u001b[0mvalidate_separately\u001b[0m\u001b[0;34m=\u001b[0m\u001b[0;34m(\u001b[0m\u001b[0mcheck_X_params\u001b[0m\u001b[0;34m,\u001b[0m \u001b[0mcheck_y_params\u001b[0m\u001b[0;34m)\u001b[0m\u001b[0;34m\u001b[0m\u001b[0;34m\u001b[0m\u001b[0m\n\u001b[1;32m    188\u001b[0m             )\n",
            "\u001b[0;32m/usr/local/lib/python3.10/dist-packages/sklearn/base.py\u001b[0m in \u001b[0;36m_validate_data\u001b[0;34m(self, X, y, reset, validate_separately, **check_params)\u001b[0m\n\u001b[1;32m    546\u001b[0m             \u001b[0mvalidated\u001b[0m\u001b[0;34m.\u001b[0m\u001b[0;34m\u001b[0m\u001b[0;34m\u001b[0m\u001b[0m\n\u001b[1;32m    547\u001b[0m         \"\"\"\n\u001b[0;32m--> 548\u001b[0;31m         \u001b[0mself\u001b[0m\u001b[0;34m.\u001b[0m\u001b[0m_check_feature_names\u001b[0m\u001b[0;34m(\u001b[0m\u001b[0mX\u001b[0m\u001b[0;34m,\u001b[0m \u001b[0mreset\u001b[0m\u001b[0;34m=\u001b[0m\u001b[0mreset\u001b[0m\u001b[0;34m)\u001b[0m\u001b[0;34m\u001b[0m\u001b[0;34m\u001b[0m\u001b[0m\n\u001b[0m\u001b[1;32m    549\u001b[0m \u001b[0;34m\u001b[0m\u001b[0m\n\u001b[1;32m    550\u001b[0m         \u001b[0;32mif\u001b[0m \u001b[0my\u001b[0m \u001b[0;32mis\u001b[0m \u001b[0;32mNone\u001b[0m \u001b[0;32mand\u001b[0m \u001b[0mself\u001b[0m\u001b[0;34m.\u001b[0m\u001b[0m_get_tags\u001b[0m\u001b[0;34m(\u001b[0m\u001b[0;34m)\u001b[0m\u001b[0;34m[\u001b[0m\u001b[0;34m\"requires_y\"\u001b[0m\u001b[0;34m]\u001b[0m\u001b[0;34m:\u001b[0m\u001b[0;34m\u001b[0m\u001b[0;34m\u001b[0m\u001b[0m\n",
            "\u001b[0;32m/usr/local/lib/python3.10/dist-packages/sklearn/base.py\u001b[0m in \u001b[0;36m_check_feature_names\u001b[0;34m(self, X, reset)\u001b[0m\n\u001b[1;32m    413\u001b[0m \u001b[0;34m\u001b[0m\u001b[0m\n\u001b[1;32m    414\u001b[0m         \u001b[0;32mif\u001b[0m \u001b[0mreset\u001b[0m\u001b[0;34m:\u001b[0m\u001b[0;34m\u001b[0m\u001b[0;34m\u001b[0m\u001b[0m\n\u001b[0;32m--> 415\u001b[0;31m             \u001b[0mfeature_names_in\u001b[0m \u001b[0;34m=\u001b[0m \u001b[0m_get_feature_names\u001b[0m\u001b[0;34m(\u001b[0m\u001b[0mX\u001b[0m\u001b[0;34m)\u001b[0m\u001b[0;34m\u001b[0m\u001b[0;34m\u001b[0m\u001b[0m\n\u001b[0m\u001b[1;32m    416\u001b[0m             \u001b[0;32mif\u001b[0m \u001b[0mfeature_names_in\u001b[0m \u001b[0;32mis\u001b[0m \u001b[0;32mnot\u001b[0m \u001b[0;32mNone\u001b[0m\u001b[0;34m:\u001b[0m\u001b[0;34m\u001b[0m\u001b[0;34m\u001b[0m\u001b[0m\n\u001b[1;32m    417\u001b[0m                 \u001b[0mself\u001b[0m\u001b[0;34m.\u001b[0m\u001b[0mfeature_names_in_\u001b[0m \u001b[0;34m=\u001b[0m \u001b[0mfeature_names_in\u001b[0m\u001b[0;34m\u001b[0m\u001b[0;34m\u001b[0m\u001b[0m\n",
            "\u001b[0;32m/usr/local/lib/python3.10/dist-packages/sklearn/utils/validation.py\u001b[0m in \u001b[0;36m_get_feature_names\u001b[0;34m(X)\u001b[0m\n\u001b[1;32m   1901\u001b[0m     \u001b[0;31m# mixed type of string and non-string is not supported\u001b[0m\u001b[0;34m\u001b[0m\u001b[0;34m\u001b[0m\u001b[0m\n\u001b[1;32m   1902\u001b[0m     \u001b[0;32mif\u001b[0m \u001b[0mlen\u001b[0m\u001b[0;34m(\u001b[0m\u001b[0mtypes\u001b[0m\u001b[0;34m)\u001b[0m \u001b[0;34m>\u001b[0m \u001b[0;36m1\u001b[0m \u001b[0;32mand\u001b[0m \u001b[0;34m\"str\"\u001b[0m \u001b[0;32min\u001b[0m \u001b[0mtypes\u001b[0m\u001b[0;34m:\u001b[0m\u001b[0;34m\u001b[0m\u001b[0;34m\u001b[0m\u001b[0m\n\u001b[0;32m-> 1903\u001b[0;31m         raise TypeError(\n\u001b[0m\u001b[1;32m   1904\u001b[0m             \u001b[0;34m\"Feature names are only supported if all input features have string names, \"\u001b[0m\u001b[0;34m\u001b[0m\u001b[0;34m\u001b[0m\u001b[0m\n\u001b[1;32m   1905\u001b[0m             \u001b[0;34mf\"but your input has {types} as feature name / column name types. \"\u001b[0m\u001b[0;34m\u001b[0m\u001b[0;34m\u001b[0m\u001b[0m\n",
            "\u001b[0;31mTypeError\u001b[0m: Feature names are only supported if all input features have string names, but your input has ['str', 'tuple'] as feature name / column name types. If you want feature names to be stored and validated, you must convert them all to strings, by using X.columns = X.columns.astype(str) for example. Otherwise you can remove feature / column names from your input data, or convert them all to a non-string data type."
          ]
        }
      ]
    },
    {
      "cell_type": "code",
      "source": [
        "model = tf.keras.models.Sequential()\n",
        "model.add(Dense(64, activation='relu', input_dim=24))\n",
        "model.add(Dropout(0.35))\n",
        "model.add(Dense(32, activation='relu', input_dim=24))\n",
        "model.add(Dropout(0.4))\n",
        "model.add(Dense(16, activation='relu', input_dim=24))\n",
        "model.add(Dropout(0.25))\n",
        "model.add(Dense(1, activation='sigmoid'))\n",
        "model.compile(optimizer='adam', loss='binary_crossentropy', metrics=['accuracy'])\n",
        "model.fit(x_train, y_train, epochs=5, batch_size=10)\n",
        "y_pred = model.predict(x_test)\n",
        "\n",
        "accuracy = accuracy_score(y_test, y_pred)\n",
        "report = classification_report(y_test, y_pred, target_names=df_bigrams.target_names)\n",
        "confusion_mat = confusion_matrix(y_test, y_pred)\n",
        "\n",
        "print(\"Accuracy:\", accuracy)\n",
        "print(\"Classification Report:\\n\", report)\n",
        "print(\"Confusion Matrix:\\n\", confusion_mat)"
      ],
      "metadata": {
        "colab": {
          "base_uri": "https://localhost:8080/",
          "height": 395
        },
        "id": "aEV2nia1AJEx",
        "outputId": "b575e144-fff7-46b2-c274-2c149da24e0b"
      },
      "execution_count": null,
      "outputs": [
        {
          "output_type": "error",
          "ename": "ValueError",
          "evalue": "ignored",
          "traceback": [
            "\u001b[0;31m---------------------------------------------------------------------------\u001b[0m",
            "\u001b[0;31mValueError\u001b[0m                                Traceback (most recent call last)",
            "\u001b[0;32m<ipython-input-33-547614119390>\u001b[0m in \u001b[0;36m<cell line: 10>\u001b[0;34m()\u001b[0m\n\u001b[1;32m      8\u001b[0m \u001b[0mmodel\u001b[0m\u001b[0;34m.\u001b[0m\u001b[0madd\u001b[0m\u001b[0;34m(\u001b[0m\u001b[0mDense\u001b[0m\u001b[0;34m(\u001b[0m\u001b[0;36m1\u001b[0m\u001b[0;34m,\u001b[0m \u001b[0mactivation\u001b[0m\u001b[0;34m=\u001b[0m\u001b[0;34m'sigmoid'\u001b[0m\u001b[0;34m)\u001b[0m\u001b[0;34m)\u001b[0m\u001b[0;34m\u001b[0m\u001b[0;34m\u001b[0m\u001b[0m\n\u001b[1;32m      9\u001b[0m \u001b[0mmodel\u001b[0m\u001b[0;34m.\u001b[0m\u001b[0mcompile\u001b[0m\u001b[0;34m(\u001b[0m\u001b[0moptimizer\u001b[0m\u001b[0;34m=\u001b[0m\u001b[0;34m'adam'\u001b[0m\u001b[0;34m,\u001b[0m \u001b[0mloss\u001b[0m\u001b[0;34m=\u001b[0m\u001b[0;34m'binary_crossentropy'\u001b[0m\u001b[0;34m,\u001b[0m \u001b[0mmetrics\u001b[0m\u001b[0;34m=\u001b[0m\u001b[0;34m[\u001b[0m\u001b[0;34m'accuracy'\u001b[0m\u001b[0;34m]\u001b[0m\u001b[0;34m)\u001b[0m\u001b[0;34m\u001b[0m\u001b[0;34m\u001b[0m\u001b[0m\n\u001b[0;32m---> 10\u001b[0;31m \u001b[0mmodel\u001b[0m\u001b[0;34m.\u001b[0m\u001b[0mfit\u001b[0m\u001b[0;34m(\u001b[0m\u001b[0mx_train\u001b[0m\u001b[0;34m,\u001b[0m \u001b[0my_train\u001b[0m\u001b[0;34m,\u001b[0m \u001b[0mepochs\u001b[0m\u001b[0;34m=\u001b[0m\u001b[0;36m5\u001b[0m\u001b[0;34m,\u001b[0m \u001b[0mbatch_size\u001b[0m\u001b[0;34m=\u001b[0m\u001b[0;36m10\u001b[0m\u001b[0;34m)\u001b[0m\u001b[0;34m\u001b[0m\u001b[0;34m\u001b[0m\u001b[0m\n\u001b[0m\u001b[1;32m     11\u001b[0m \u001b[0my_pred\u001b[0m \u001b[0;34m=\u001b[0m \u001b[0mmodel\u001b[0m\u001b[0;34m.\u001b[0m\u001b[0mpredict\u001b[0m\u001b[0;34m(\u001b[0m\u001b[0mx_test\u001b[0m\u001b[0;34m)\u001b[0m\u001b[0;34m\u001b[0m\u001b[0;34m\u001b[0m\u001b[0m\n\u001b[1;32m     12\u001b[0m \u001b[0;34m\u001b[0m\u001b[0m\n",
            "\u001b[0;32m/usr/local/lib/python3.10/dist-packages/keras/utils/traceback_utils.py\u001b[0m in \u001b[0;36merror_handler\u001b[0;34m(*args, **kwargs)\u001b[0m\n\u001b[1;32m     68\u001b[0m             \u001b[0;31m# To get the full stack trace, call:\u001b[0m\u001b[0;34m\u001b[0m\u001b[0;34m\u001b[0m\u001b[0m\n\u001b[1;32m     69\u001b[0m             \u001b[0;31m# `tf.debugging.disable_traceback_filtering()`\u001b[0m\u001b[0;34m\u001b[0m\u001b[0;34m\u001b[0m\u001b[0m\n\u001b[0;32m---> 70\u001b[0;31m             \u001b[0;32mraise\u001b[0m \u001b[0me\u001b[0m\u001b[0;34m.\u001b[0m\u001b[0mwith_traceback\u001b[0m\u001b[0;34m(\u001b[0m\u001b[0mfiltered_tb\u001b[0m\u001b[0;34m)\u001b[0m \u001b[0;32mfrom\u001b[0m \u001b[0;32mNone\u001b[0m\u001b[0;34m\u001b[0m\u001b[0;34m\u001b[0m\u001b[0m\n\u001b[0m\u001b[1;32m     71\u001b[0m         \u001b[0;32mfinally\u001b[0m\u001b[0;34m:\u001b[0m\u001b[0;34m\u001b[0m\u001b[0;34m\u001b[0m\u001b[0m\n\u001b[1;32m     72\u001b[0m             \u001b[0;32mdel\u001b[0m \u001b[0mfiltered_tb\u001b[0m\u001b[0;34m\u001b[0m\u001b[0;34m\u001b[0m\u001b[0m\n",
            "\u001b[0;32m/usr/local/lib/python3.10/dist-packages/keras/engine/data_adapter.py\u001b[0m in \u001b[0;36mselect_data_adapter\u001b[0;34m(x, y)\u001b[0m\n\u001b[1;32m   1080\u001b[0m     \u001b[0;32mif\u001b[0m \u001b[0;32mnot\u001b[0m \u001b[0madapter_cls\u001b[0m\u001b[0;34m:\u001b[0m\u001b[0;34m\u001b[0m\u001b[0;34m\u001b[0m\u001b[0m\n\u001b[1;32m   1081\u001b[0m         \u001b[0;31m# TODO(scottzhu): This should be a less implementation-specific error.\u001b[0m\u001b[0;34m\u001b[0m\u001b[0;34m\u001b[0m\u001b[0m\n\u001b[0;32m-> 1082\u001b[0;31m         raise ValueError(\n\u001b[0m\u001b[1;32m   1083\u001b[0m             \"Failed to find data adapter that can handle input: {}, {}\".format(\n\u001b[1;32m   1084\u001b[0m                 \u001b[0m_type_name\u001b[0m\u001b[0;34m(\u001b[0m\u001b[0mx\u001b[0m\u001b[0;34m)\u001b[0m\u001b[0;34m,\u001b[0m \u001b[0m_type_name\u001b[0m\u001b[0;34m(\u001b[0m\u001b[0my\u001b[0m\u001b[0;34m)\u001b[0m\u001b[0;34m\u001b[0m\u001b[0;34m\u001b[0m\u001b[0m\n",
            "\u001b[0;31mValueError\u001b[0m: Failed to find data adapter that can handle input: (<class 'list'> containing values of types {\"<class 'str'>\"}), <class 'pandas.core.series.Series'>"
          ]
        }
      ]
    },
    {
      "cell_type": "code",
      "source": [
        "X = df_bigrams\n",
        "X = X.drop(['REVIEW_TEXT'], axis = 1)\n",
        "X = X.drop(['REVIEW_TITLE'], axis = 1)\n",
        "X = X.drop(['PREPROCESSED_REVIEW_TEXT'], axis = 1)\n",
        "X = X.drop(['VERIFIED_PURCHASE'], axis = 1)\n",
        "X = X.drop(['SENTIMENT_CATEGORY_ENCODED'], axis = 1)\n",
        "X = X.drop(['RATING_CATEGORY_ENCODED'], axis = 1)\n",
        "X = X.drop(['LABEL_ENCODED'], axis = 1)\n",
        "Y = df_bigrams['LABEL_ENCODED']\n",
        "\n",
        "print(\"X shape before processing is\", X.shape)\n",
        "\n",
        "numerical_pipeline = Pipeline([\n",
        "                               (\"std_scaler\", StandardScaler())\n",
        "                               ])\n",
        "\n",
        "numerical_features = list(X)\n",
        "categorical_features = [\"VERIFIED_PURCHASE\", \"SENTIMENT_CATEGORY_ENCODED\", \"RATING_CATEGORY_ENCODED\"]\n",
        "\n",
        "full_pipeline = ColumnTransformer([\n",
        "                (\"numerical\", numerical_pipeline, numerical_features),\n",
        "                (\"categorical\", OneHotEncoder(), categorical_features)\n",
        "                ])\n",
        "X_prepared = full_pipeline.fit_transform(X)\n",
        "\n",
        "print(\"X shape after processing is\", X_prepared.shape)\n",
        "\n",
        "'''\n",
        "features_mod = df_modified\n",
        "features_mod = features_mod.drop(['LABEL_ENCODED'], axis = 1)\n",
        "labels_mod = df_modified['LABEL_ENCODED']\n",
        "'''"
      ],
      "metadata": {
        "colab": {
          "base_uri": "https://localhost:8080/",
          "height": 450
        },
        "id": "s8CkyatGAwUn",
        "outputId": "533ce040-285e-4f54-9b75-bd9939c3217d"
      },
      "execution_count": null,
      "outputs": [
        {
          "output_type": "stream",
          "name": "stdout",
          "text": [
            "X shape before processing is (2266, 17)\n"
          ]
        },
        {
          "output_type": "error",
          "ename": "TypeError",
          "evalue": "ignored",
          "traceback": [
            "\u001b[0;31m---------------------------------------------------------------------------\u001b[0m",
            "\u001b[0;31mTypeError\u001b[0m                                 Traceback (most recent call last)",
            "\u001b[0;32m<ipython-input-34-05dda190f514>\u001b[0m in \u001b[0;36m<cell line: 24>\u001b[0;34m()\u001b[0m\n\u001b[1;32m     22\u001b[0m                 \u001b[0;34m(\u001b[0m\u001b[0;34m\"categorical\"\u001b[0m\u001b[0;34m,\u001b[0m \u001b[0mOneHotEncoder\u001b[0m\u001b[0;34m(\u001b[0m\u001b[0;34m)\u001b[0m\u001b[0;34m,\u001b[0m \u001b[0mcategorical_features\u001b[0m\u001b[0;34m)\u001b[0m\u001b[0;34m\u001b[0m\u001b[0;34m\u001b[0m\u001b[0m\n\u001b[1;32m     23\u001b[0m                 ])\n\u001b[0;32m---> 24\u001b[0;31m \u001b[0mX_prepared\u001b[0m \u001b[0;34m=\u001b[0m \u001b[0mfull_pipeline\u001b[0m\u001b[0;34m.\u001b[0m\u001b[0mfit_transform\u001b[0m\u001b[0;34m(\u001b[0m\u001b[0mX\u001b[0m\u001b[0;34m)\u001b[0m\u001b[0;34m\u001b[0m\u001b[0;34m\u001b[0m\u001b[0m\n\u001b[0m\u001b[1;32m     25\u001b[0m \u001b[0;34m\u001b[0m\u001b[0m\n\u001b[1;32m     26\u001b[0m \u001b[0mprint\u001b[0m\u001b[0;34m(\u001b[0m\u001b[0;34m\"X shape after processing is\"\u001b[0m\u001b[0;34m,\u001b[0m \u001b[0mX_prepared\u001b[0m\u001b[0;34m.\u001b[0m\u001b[0mshape\u001b[0m\u001b[0;34m)\u001b[0m\u001b[0;34m\u001b[0m\u001b[0;34m\u001b[0m\u001b[0m\n",
            "\u001b[0;32m/usr/local/lib/python3.10/dist-packages/sklearn/utils/_set_output.py\u001b[0m in \u001b[0;36mwrapped\u001b[0;34m(self, X, *args, **kwargs)\u001b[0m\n\u001b[1;32m    138\u001b[0m     \u001b[0;34m@\u001b[0m\u001b[0mwraps\u001b[0m\u001b[0;34m(\u001b[0m\u001b[0mf\u001b[0m\u001b[0;34m)\u001b[0m\u001b[0;34m\u001b[0m\u001b[0;34m\u001b[0m\u001b[0m\n\u001b[1;32m    139\u001b[0m     \u001b[0;32mdef\u001b[0m \u001b[0mwrapped\u001b[0m\u001b[0;34m(\u001b[0m\u001b[0mself\u001b[0m\u001b[0;34m,\u001b[0m \u001b[0mX\u001b[0m\u001b[0;34m,\u001b[0m \u001b[0;34m*\u001b[0m\u001b[0margs\u001b[0m\u001b[0;34m,\u001b[0m \u001b[0;34m**\u001b[0m\u001b[0mkwargs\u001b[0m\u001b[0;34m)\u001b[0m\u001b[0;34m:\u001b[0m\u001b[0;34m\u001b[0m\u001b[0;34m\u001b[0m\u001b[0m\n\u001b[0;32m--> 140\u001b[0;31m         \u001b[0mdata_to_wrap\u001b[0m \u001b[0;34m=\u001b[0m \u001b[0mf\u001b[0m\u001b[0;34m(\u001b[0m\u001b[0mself\u001b[0m\u001b[0;34m,\u001b[0m \u001b[0mX\u001b[0m\u001b[0;34m,\u001b[0m \u001b[0;34m*\u001b[0m\u001b[0margs\u001b[0m\u001b[0;34m,\u001b[0m \u001b[0;34m**\u001b[0m\u001b[0mkwargs\u001b[0m\u001b[0;34m)\u001b[0m\u001b[0;34m\u001b[0m\u001b[0;34m\u001b[0m\u001b[0m\n\u001b[0m\u001b[1;32m    141\u001b[0m         \u001b[0;32mif\u001b[0m \u001b[0misinstance\u001b[0m\u001b[0;34m(\u001b[0m\u001b[0mdata_to_wrap\u001b[0m\u001b[0;34m,\u001b[0m \u001b[0mtuple\u001b[0m\u001b[0;34m)\u001b[0m\u001b[0;34m:\u001b[0m\u001b[0;34m\u001b[0m\u001b[0;34m\u001b[0m\u001b[0m\n\u001b[1;32m    142\u001b[0m             \u001b[0;31m# only wrap the first output for cross decomposition\u001b[0m\u001b[0;34m\u001b[0m\u001b[0;34m\u001b[0m\u001b[0m\n",
            "\u001b[0;32m/usr/local/lib/python3.10/dist-packages/sklearn/compose/_column_transformer.py\u001b[0m in \u001b[0;36mfit_transform\u001b[0;34m(self, X, y)\u001b[0m\n\u001b[1;32m    716\u001b[0m             \u001b[0msparse\u001b[0m \u001b[0mmatrices\u001b[0m\u001b[0;34m.\u001b[0m\u001b[0;34m\u001b[0m\u001b[0;34m\u001b[0m\u001b[0m\n\u001b[1;32m    717\u001b[0m         \"\"\"\n\u001b[0;32m--> 718\u001b[0;31m         \u001b[0mself\u001b[0m\u001b[0;34m.\u001b[0m\u001b[0m_check_feature_names\u001b[0m\u001b[0;34m(\u001b[0m\u001b[0mX\u001b[0m\u001b[0;34m,\u001b[0m \u001b[0mreset\u001b[0m\u001b[0;34m=\u001b[0m\u001b[0;32mTrue\u001b[0m\u001b[0;34m)\u001b[0m\u001b[0;34m\u001b[0m\u001b[0;34m\u001b[0m\u001b[0m\n\u001b[0m\u001b[1;32m    719\u001b[0m \u001b[0;34m\u001b[0m\u001b[0m\n\u001b[1;32m    720\u001b[0m         \u001b[0mX\u001b[0m \u001b[0;34m=\u001b[0m \u001b[0m_check_X\u001b[0m\u001b[0;34m(\u001b[0m\u001b[0mX\u001b[0m\u001b[0;34m)\u001b[0m\u001b[0;34m\u001b[0m\u001b[0;34m\u001b[0m\u001b[0m\n",
            "\u001b[0;32m/usr/local/lib/python3.10/dist-packages/sklearn/base.py\u001b[0m in \u001b[0;36m_check_feature_names\u001b[0;34m(self, X, reset)\u001b[0m\n\u001b[1;32m    413\u001b[0m \u001b[0;34m\u001b[0m\u001b[0m\n\u001b[1;32m    414\u001b[0m         \u001b[0;32mif\u001b[0m \u001b[0mreset\u001b[0m\u001b[0;34m:\u001b[0m\u001b[0;34m\u001b[0m\u001b[0;34m\u001b[0m\u001b[0m\n\u001b[0;32m--> 415\u001b[0;31m             \u001b[0mfeature_names_in\u001b[0m \u001b[0;34m=\u001b[0m \u001b[0m_get_feature_names\u001b[0m\u001b[0;34m(\u001b[0m\u001b[0mX\u001b[0m\u001b[0;34m)\u001b[0m\u001b[0;34m\u001b[0m\u001b[0;34m\u001b[0m\u001b[0m\n\u001b[0m\u001b[1;32m    416\u001b[0m             \u001b[0;32mif\u001b[0m \u001b[0mfeature_names_in\u001b[0m \u001b[0;32mis\u001b[0m \u001b[0;32mnot\u001b[0m \u001b[0;32mNone\u001b[0m\u001b[0;34m:\u001b[0m\u001b[0;34m\u001b[0m\u001b[0;34m\u001b[0m\u001b[0m\n\u001b[1;32m    417\u001b[0m                 \u001b[0mself\u001b[0m\u001b[0;34m.\u001b[0m\u001b[0mfeature_names_in_\u001b[0m \u001b[0;34m=\u001b[0m \u001b[0mfeature_names_in\u001b[0m\u001b[0;34m\u001b[0m\u001b[0;34m\u001b[0m\u001b[0m\n",
            "\u001b[0;32m/usr/local/lib/python3.10/dist-packages/sklearn/utils/validation.py\u001b[0m in \u001b[0;36m_get_feature_names\u001b[0;34m(X)\u001b[0m\n\u001b[1;32m   1901\u001b[0m     \u001b[0;31m# mixed type of string and non-string is not supported\u001b[0m\u001b[0;34m\u001b[0m\u001b[0;34m\u001b[0m\u001b[0m\n\u001b[1;32m   1902\u001b[0m     \u001b[0;32mif\u001b[0m \u001b[0mlen\u001b[0m\u001b[0;34m(\u001b[0m\u001b[0mtypes\u001b[0m\u001b[0;34m)\u001b[0m \u001b[0;34m>\u001b[0m \u001b[0;36m1\u001b[0m \u001b[0;32mand\u001b[0m \u001b[0;34m\"str\"\u001b[0m \u001b[0;32min\u001b[0m \u001b[0mtypes\u001b[0m\u001b[0;34m:\u001b[0m\u001b[0;34m\u001b[0m\u001b[0;34m\u001b[0m\u001b[0m\n\u001b[0;32m-> 1903\u001b[0;31m         raise TypeError(\n\u001b[0m\u001b[1;32m   1904\u001b[0m             \u001b[0;34m\"Feature names are only supported if all input features have string names, \"\u001b[0m\u001b[0;34m\u001b[0m\u001b[0;34m\u001b[0m\u001b[0m\n\u001b[1;32m   1905\u001b[0m             \u001b[0;34mf\"but your input has {types} as feature name / column name types. \"\u001b[0m\u001b[0;34m\u001b[0m\u001b[0;34m\u001b[0m\u001b[0m\n",
            "\u001b[0;31mTypeError\u001b[0m: Feature names are only supported if all input features have string names, but your input has ['str', 'tuple'] as feature name / column name types. If you want feature names to be stored and validated, you must convert them all to strings, by using X.columns = X.columns.astype(str) for example. Otherwise you can remove feature / column names from your input data, or convert them all to a non-string data type."
          ]
        }
      ]
    },
    {
      "cell_type": "code",
      "source": [
        "from sklearn.compose import ColumnTransformer\n",
        "from sklearn.preprocessing import StandardScaler, OneHotEncoder\n",
        "from sklearn.pipeline import Pipeline\n",
        "import pandas as pd\n",
        "\n",
        "# Assuming you have a DataFrame named df_bigrams with column names\n",
        "\n",
        "# Drop the unwanted columns from the features DataFrame\n",
        "X = df_bigrams.drop(['REVIEW_TEXT', 'REVIEW_TITLE', 'PREPROCESSED_REVIEW_TEXT',\n",
        "                     'LABEL_ENCODED'], axis=1)\n",
        "\n",
        "# Convert all feature names to strings\n",
        "X_without_column_names = X.copy()\n",
        "X_without_column_names.columns = range(X_without_column_names.shape[1])\n",
        "\n",
        "print(\"X shape before processing is\", X_without_column_names.shape)\n",
        "\n",
        "# Define the lists of numerical and categorical features\n",
        "numerical_features = list(X_without_column_names)\n",
        "categorical_features = ['VERIFIED_PURCHASE', 'SENTIMENT_CATEGORY_ENCODED', 'RATING_CATEGORY_ENCODED']\n",
        "\n",
        "# Check if the specified categorical features exist in the DataFrame\n",
        "missing_features = set(categorical_features) - set(X_without_column_names.columns)\n",
        "#if missing_features:\n",
        "#    raise ValueError(f\"The following columns are missing in the DataFrame: {missing_features}\")\n",
        "\n",
        "# Create preprocessing pipelines for numerical and categorical features\n",
        "numerical_pipeline = Pipeline([\n",
        "    (\"std_scaler\", StandardScaler())\n",
        "])\n",
        "\n",
        "categorical_pipeline = Pipeline([\n",
        "    (\"one_hot_encoder\", OneHotEncoder())\n",
        "])\n",
        "\n",
        "# Combine the preprocessing pipelines using ColumnTransformer\n",
        "full_pipeline = ColumnTransformer([\n",
        "    (\"numerical\", numerical_pipeline, numerical_features),\n",
        "    (\"categorical\", categorical_pipeline, categorical_features)\n",
        "])\n",
        "\n",
        "# Apply preprocessing to X_without_column_names\n",
        "X_prepared = full_pipeline.fit_transform(X_without_column_names)\n",
        "\n",
        "print(\"X shape after processing is\", X_prepared.shape)"
      ],
      "metadata": {
        "colab": {
          "base_uri": "https://localhost:8080/",
          "height": 468
        },
        "id": "nFlLqNhbIlby",
        "outputId": "e4ecf883-5b84-4465-d5ed-0a17188cb329"
      },
      "execution_count": null,
      "outputs": [
        {
          "output_type": "stream",
          "name": "stdout",
          "text": [
            "X shape before processing is (2266, 20)\n"
          ]
        },
        {
          "output_type": "error",
          "ename": "ValueError",
          "evalue": "ignored",
          "traceback": [
            "\u001b[0;31m---------------------------------------------------------------------------\u001b[0m",
            "\u001b[0;31mKeyError\u001b[0m                                  Traceback (most recent call last)",
            "\u001b[0;32m/usr/local/lib/python3.10/dist-packages/sklearn/utils/__init__.py\u001b[0m in \u001b[0;36m_get_column_indices\u001b[0;34m(X, key)\u001b[0m\n\u001b[1;32m    447\u001b[0m             \u001b[0;32mfor\u001b[0m \u001b[0mcol\u001b[0m \u001b[0;32min\u001b[0m \u001b[0mcolumns\u001b[0m\u001b[0;34m:\u001b[0m\u001b[0;34m\u001b[0m\u001b[0;34m\u001b[0m\u001b[0m\n\u001b[0;32m--> 448\u001b[0;31m                 \u001b[0mcol_idx\u001b[0m \u001b[0;34m=\u001b[0m \u001b[0mall_columns\u001b[0m\u001b[0;34m.\u001b[0m\u001b[0mget_loc\u001b[0m\u001b[0;34m(\u001b[0m\u001b[0mcol\u001b[0m\u001b[0;34m)\u001b[0m\u001b[0;34m\u001b[0m\u001b[0;34m\u001b[0m\u001b[0m\n\u001b[0m\u001b[1;32m    449\u001b[0m                 \u001b[0;32mif\u001b[0m \u001b[0;32mnot\u001b[0m \u001b[0misinstance\u001b[0m\u001b[0;34m(\u001b[0m\u001b[0mcol_idx\u001b[0m\u001b[0;34m,\u001b[0m \u001b[0mnumbers\u001b[0m\u001b[0;34m.\u001b[0m\u001b[0mIntegral\u001b[0m\u001b[0;34m)\u001b[0m\u001b[0;34m:\u001b[0m\u001b[0;34m\u001b[0m\u001b[0;34m\u001b[0m\u001b[0m\n",
            "\u001b[0;32m/usr/local/lib/python3.10/dist-packages/pandas/core/indexes/range.py\u001b[0m in \u001b[0;36mget_loc\u001b[0;34m(self, key, method, tolerance)\u001b[0m\n\u001b[1;32m    394\u001b[0m             \u001b[0mself\u001b[0m\u001b[0;34m.\u001b[0m\u001b[0m_check_indexing_error\u001b[0m\u001b[0;34m(\u001b[0m\u001b[0mkey\u001b[0m\u001b[0;34m)\u001b[0m\u001b[0;34m\u001b[0m\u001b[0;34m\u001b[0m\u001b[0m\n\u001b[0;32m--> 395\u001b[0;31m             \u001b[0;32mraise\u001b[0m \u001b[0mKeyError\u001b[0m\u001b[0;34m(\u001b[0m\u001b[0mkey\u001b[0m\u001b[0;34m)\u001b[0m\u001b[0;34m\u001b[0m\u001b[0;34m\u001b[0m\u001b[0m\n\u001b[0m\u001b[1;32m    396\u001b[0m         \u001b[0;32mreturn\u001b[0m \u001b[0msuper\u001b[0m\u001b[0;34m(\u001b[0m\u001b[0;34m)\u001b[0m\u001b[0;34m.\u001b[0m\u001b[0mget_loc\u001b[0m\u001b[0;34m(\u001b[0m\u001b[0mkey\u001b[0m\u001b[0;34m,\u001b[0m \u001b[0mmethod\u001b[0m\u001b[0;34m=\u001b[0m\u001b[0mmethod\u001b[0m\u001b[0;34m,\u001b[0m \u001b[0mtolerance\u001b[0m\u001b[0;34m=\u001b[0m\u001b[0mtolerance\u001b[0m\u001b[0;34m)\u001b[0m\u001b[0;34m\u001b[0m\u001b[0;34m\u001b[0m\u001b[0m\n",
            "\u001b[0;31mKeyError\u001b[0m: 'VERIFIED_PURCHASE'",
            "\nThe above exception was the direct cause of the following exception:\n",
            "\u001b[0;31mValueError\u001b[0m                                Traceback (most recent call last)",
            "\u001b[0;32m<ipython-input-39-a1f2ab93de5e>\u001b[0m in \u001b[0;36m<cell line: 43>\u001b[0;34m()\u001b[0m\n\u001b[1;32m     41\u001b[0m \u001b[0;34m\u001b[0m\u001b[0m\n\u001b[1;32m     42\u001b[0m \u001b[0;31m# Apply preprocessing to X_without_column_names\u001b[0m\u001b[0;34m\u001b[0m\u001b[0;34m\u001b[0m\u001b[0m\n\u001b[0;32m---> 43\u001b[0;31m \u001b[0mX_prepared\u001b[0m \u001b[0;34m=\u001b[0m \u001b[0mfull_pipeline\u001b[0m\u001b[0;34m.\u001b[0m\u001b[0mfit_transform\u001b[0m\u001b[0;34m(\u001b[0m\u001b[0mX_without_column_names\u001b[0m\u001b[0;34m)\u001b[0m\u001b[0;34m\u001b[0m\u001b[0;34m\u001b[0m\u001b[0m\n\u001b[0m\u001b[1;32m     44\u001b[0m \u001b[0;34m\u001b[0m\u001b[0m\n\u001b[1;32m     45\u001b[0m \u001b[0mprint\u001b[0m\u001b[0;34m(\u001b[0m\u001b[0;34m\"X shape after processing is\"\u001b[0m\u001b[0;34m,\u001b[0m \u001b[0mX_prepared\u001b[0m\u001b[0;34m.\u001b[0m\u001b[0mshape\u001b[0m\u001b[0;34m)\u001b[0m\u001b[0;34m\u001b[0m\u001b[0;34m\u001b[0m\u001b[0m\n",
            "\u001b[0;32m/usr/local/lib/python3.10/dist-packages/sklearn/utils/_set_output.py\u001b[0m in \u001b[0;36mwrapped\u001b[0;34m(self, X, *args, **kwargs)\u001b[0m\n\u001b[1;32m    138\u001b[0m     \u001b[0;34m@\u001b[0m\u001b[0mwraps\u001b[0m\u001b[0;34m(\u001b[0m\u001b[0mf\u001b[0m\u001b[0;34m)\u001b[0m\u001b[0;34m\u001b[0m\u001b[0;34m\u001b[0m\u001b[0m\n\u001b[1;32m    139\u001b[0m     \u001b[0;32mdef\u001b[0m \u001b[0mwrapped\u001b[0m\u001b[0;34m(\u001b[0m\u001b[0mself\u001b[0m\u001b[0;34m,\u001b[0m \u001b[0mX\u001b[0m\u001b[0;34m,\u001b[0m \u001b[0;34m*\u001b[0m\u001b[0margs\u001b[0m\u001b[0;34m,\u001b[0m \u001b[0;34m**\u001b[0m\u001b[0mkwargs\u001b[0m\u001b[0;34m)\u001b[0m\u001b[0;34m:\u001b[0m\u001b[0;34m\u001b[0m\u001b[0;34m\u001b[0m\u001b[0m\n\u001b[0;32m--> 140\u001b[0;31m         \u001b[0mdata_to_wrap\u001b[0m \u001b[0;34m=\u001b[0m \u001b[0mf\u001b[0m\u001b[0;34m(\u001b[0m\u001b[0mself\u001b[0m\u001b[0;34m,\u001b[0m \u001b[0mX\u001b[0m\u001b[0;34m,\u001b[0m \u001b[0;34m*\u001b[0m\u001b[0margs\u001b[0m\u001b[0;34m,\u001b[0m \u001b[0;34m**\u001b[0m\u001b[0mkwargs\u001b[0m\u001b[0;34m)\u001b[0m\u001b[0;34m\u001b[0m\u001b[0;34m\u001b[0m\u001b[0m\n\u001b[0m\u001b[1;32m    141\u001b[0m         \u001b[0;32mif\u001b[0m \u001b[0misinstance\u001b[0m\u001b[0;34m(\u001b[0m\u001b[0mdata_to_wrap\u001b[0m\u001b[0;34m,\u001b[0m \u001b[0mtuple\u001b[0m\u001b[0;34m)\u001b[0m\u001b[0;34m:\u001b[0m\u001b[0;34m\u001b[0m\u001b[0;34m\u001b[0m\u001b[0m\n\u001b[1;32m    142\u001b[0m             \u001b[0;31m# only wrap the first output for cross decomposition\u001b[0m\u001b[0;34m\u001b[0m\u001b[0;34m\u001b[0m\u001b[0m\n",
            "\u001b[0;32m/usr/local/lib/python3.10/dist-packages/sklearn/compose/_column_transformer.py\u001b[0m in \u001b[0;36mfit_transform\u001b[0;34m(self, X, y)\u001b[0m\n\u001b[1;32m    722\u001b[0m         \u001b[0mself\u001b[0m\u001b[0;34m.\u001b[0m\u001b[0m_check_n_features\u001b[0m\u001b[0;34m(\u001b[0m\u001b[0mX\u001b[0m\u001b[0;34m,\u001b[0m \u001b[0mreset\u001b[0m\u001b[0;34m=\u001b[0m\u001b[0;32mTrue\u001b[0m\u001b[0;34m)\u001b[0m\u001b[0;34m\u001b[0m\u001b[0;34m\u001b[0m\u001b[0m\n\u001b[1;32m    723\u001b[0m         \u001b[0mself\u001b[0m\u001b[0;34m.\u001b[0m\u001b[0m_validate_transformers\u001b[0m\u001b[0;34m(\u001b[0m\u001b[0;34m)\u001b[0m\u001b[0;34m\u001b[0m\u001b[0;34m\u001b[0m\u001b[0m\n\u001b[0;32m--> 724\u001b[0;31m         \u001b[0mself\u001b[0m\u001b[0;34m.\u001b[0m\u001b[0m_validate_column_callables\u001b[0m\u001b[0;34m(\u001b[0m\u001b[0mX\u001b[0m\u001b[0;34m)\u001b[0m\u001b[0;34m\u001b[0m\u001b[0;34m\u001b[0m\u001b[0m\n\u001b[0m\u001b[1;32m    725\u001b[0m         \u001b[0mself\u001b[0m\u001b[0;34m.\u001b[0m\u001b[0m_validate_remainder\u001b[0m\u001b[0;34m(\u001b[0m\u001b[0mX\u001b[0m\u001b[0;34m)\u001b[0m\u001b[0;34m\u001b[0m\u001b[0;34m\u001b[0m\u001b[0m\n\u001b[1;32m    726\u001b[0m \u001b[0;34m\u001b[0m\u001b[0m\n",
            "\u001b[0;32m/usr/local/lib/python3.10/dist-packages/sklearn/compose/_column_transformer.py\u001b[0m in \u001b[0;36m_validate_column_callables\u001b[0;34m(self, X)\u001b[0m\n\u001b[1;32m    424\u001b[0m                 \u001b[0mcolumns\u001b[0m \u001b[0;34m=\u001b[0m \u001b[0mcolumns\u001b[0m\u001b[0;34m(\u001b[0m\u001b[0mX\u001b[0m\u001b[0;34m)\u001b[0m\u001b[0;34m\u001b[0m\u001b[0;34m\u001b[0m\u001b[0m\n\u001b[1;32m    425\u001b[0m             \u001b[0mall_columns\u001b[0m\u001b[0;34m.\u001b[0m\u001b[0mappend\u001b[0m\u001b[0;34m(\u001b[0m\u001b[0mcolumns\u001b[0m\u001b[0;34m)\u001b[0m\u001b[0;34m\u001b[0m\u001b[0;34m\u001b[0m\u001b[0m\n\u001b[0;32m--> 426\u001b[0;31m             \u001b[0mtransformer_to_input_indices\u001b[0m\u001b[0;34m[\u001b[0m\u001b[0mname\u001b[0m\u001b[0;34m]\u001b[0m \u001b[0;34m=\u001b[0m \u001b[0m_get_column_indices\u001b[0m\u001b[0;34m(\u001b[0m\u001b[0mX\u001b[0m\u001b[0;34m,\u001b[0m \u001b[0mcolumns\u001b[0m\u001b[0;34m)\u001b[0m\u001b[0;34m\u001b[0m\u001b[0;34m\u001b[0m\u001b[0m\n\u001b[0m\u001b[1;32m    427\u001b[0m \u001b[0;34m\u001b[0m\u001b[0m\n\u001b[1;32m    428\u001b[0m         \u001b[0mself\u001b[0m\u001b[0;34m.\u001b[0m\u001b[0m_columns\u001b[0m \u001b[0;34m=\u001b[0m \u001b[0mall_columns\u001b[0m\u001b[0;34m\u001b[0m\u001b[0;34m\u001b[0m\u001b[0m\n",
            "\u001b[0;32m/usr/local/lib/python3.10/dist-packages/sklearn/utils/__init__.py\u001b[0m in \u001b[0;36m_get_column_indices\u001b[0;34m(X, key)\u001b[0m\n\u001b[1;32m    454\u001b[0m \u001b[0;34m\u001b[0m\u001b[0m\n\u001b[1;32m    455\u001b[0m         \u001b[0;32mexcept\u001b[0m \u001b[0mKeyError\u001b[0m \u001b[0;32mas\u001b[0m \u001b[0me\u001b[0m\u001b[0;34m:\u001b[0m\u001b[0;34m\u001b[0m\u001b[0;34m\u001b[0m\u001b[0m\n\u001b[0;32m--> 456\u001b[0;31m             \u001b[0;32mraise\u001b[0m \u001b[0mValueError\u001b[0m\u001b[0;34m(\u001b[0m\u001b[0;34m\"A given column is not a column of the dataframe\"\u001b[0m\u001b[0;34m)\u001b[0m \u001b[0;32mfrom\u001b[0m \u001b[0me\u001b[0m\u001b[0;34m\u001b[0m\u001b[0;34m\u001b[0m\u001b[0m\n\u001b[0m\u001b[1;32m    457\u001b[0m \u001b[0;34m\u001b[0m\u001b[0m\n\u001b[1;32m    458\u001b[0m         \u001b[0;32mreturn\u001b[0m \u001b[0mcolumn_indices\u001b[0m\u001b[0;34m\u001b[0m\u001b[0;34m\u001b[0m\u001b[0m\n",
            "\u001b[0;31mValueError\u001b[0m: A given column is not a column of the dataframe"
          ]
        }
      ]
    },
    {
      "cell_type": "code",
      "source": [
        "# Vectorize the training and test data\n",
        "vectorizer = CountVectorizer()\n",
        "x_train_vectorized = vectorizer.fit_transform(x_train['REVIEW_TEXT'])\n",
        "x_test_vectorized = vectorizer.transform(x_test['REVIEW_TEXT'])\n",
        "\n",
        "# Define and train the model\n",
        "model = DecisionTreeClassifier()\n",
        "model.fit(x_train_vectorized, y_train)\n",
        "\n",
        "# Predict on the test data\n",
        "pred = model.predict(x_test_vectorized)\n",
        "\n",
        "# Metrics\n",
        "accuracy = accuracy_score(y_test, pred)\n",
        "report = classification_report(y_test, pred, target_names=['Fake', 'Real'])\n",
        "confusion_mat = confusion_matrix(y_test, pred,  target_names=['Fake', 'Real'])\n",
        "\n",
        "print(\"Accuracy:\", accuracy)\n",
        "print(\"Classification Report:\\n\", report)\n",
        "print(\"Confusion Matrix:\\n\", confusion_mat)\n",
        "\n",
        "# ROC curve\n",
        "draw_roc_curve(y_test, pred, \"DTC\", c=\"blue\", line_width=1)"
      ],
      "metadata": {
        "colab": {
          "base_uri": "https://localhost:8080/",
          "height": 235
        },
        "id": "OpZWVgnlbFC0",
        "outputId": "3b9cec77-c121-4709-85bc-f597bbd547b2"
      },
      "execution_count": 86,
      "outputs": [
        {
          "output_type": "error",
          "ename": "TypeError",
          "evalue": "ignored",
          "traceback": [
            "\u001b[0;31m---------------------------------------------------------------------------\u001b[0m",
            "\u001b[0;31mTypeError\u001b[0m                                 Traceback (most recent call last)",
            "\u001b[0;32m<ipython-input-86-09398ecfe5d5>\u001b[0m in \u001b[0;36m<cell line: 16>\u001b[0;34m()\u001b[0m\n\u001b[1;32m     14\u001b[0m \u001b[0maccuracy\u001b[0m \u001b[0;34m=\u001b[0m \u001b[0maccuracy_score\u001b[0m\u001b[0;34m(\u001b[0m\u001b[0my_test\u001b[0m\u001b[0;34m,\u001b[0m \u001b[0mpred\u001b[0m\u001b[0;34m)\u001b[0m\u001b[0;34m\u001b[0m\u001b[0;34m\u001b[0m\u001b[0m\n\u001b[1;32m     15\u001b[0m \u001b[0mreport\u001b[0m \u001b[0;34m=\u001b[0m \u001b[0mclassification_report\u001b[0m\u001b[0;34m(\u001b[0m\u001b[0my_test\u001b[0m\u001b[0;34m,\u001b[0m \u001b[0mpred\u001b[0m\u001b[0;34m,\u001b[0m \u001b[0mtarget_names\u001b[0m\u001b[0;34m=\u001b[0m\u001b[0;34m[\u001b[0m\u001b[0;34m'Fake'\u001b[0m\u001b[0;34m,\u001b[0m \u001b[0;34m'Real'\u001b[0m\u001b[0;34m]\u001b[0m\u001b[0;34m)\u001b[0m\u001b[0;34m\u001b[0m\u001b[0;34m\u001b[0m\u001b[0m\n\u001b[0;32m---> 16\u001b[0;31m \u001b[0mconfusion_mat\u001b[0m \u001b[0;34m=\u001b[0m \u001b[0mconfusion_matrix\u001b[0m\u001b[0;34m(\u001b[0m\u001b[0my_test\u001b[0m\u001b[0;34m,\u001b[0m \u001b[0mpred\u001b[0m\u001b[0;34m,\u001b[0m  \u001b[0mtarget_names\u001b[0m\u001b[0;34m=\u001b[0m\u001b[0;34m[\u001b[0m\u001b[0;34m'Fake'\u001b[0m\u001b[0;34m,\u001b[0m \u001b[0;34m'Real'\u001b[0m\u001b[0;34m]\u001b[0m\u001b[0;34m)\u001b[0m\u001b[0;34m\u001b[0m\u001b[0;34m\u001b[0m\u001b[0m\n\u001b[0m\u001b[1;32m     17\u001b[0m \u001b[0;34m\u001b[0m\u001b[0m\n\u001b[1;32m     18\u001b[0m \u001b[0mprint\u001b[0m\u001b[0;34m(\u001b[0m\u001b[0;34m\"Accuracy:\"\u001b[0m\u001b[0;34m,\u001b[0m \u001b[0maccuracy\u001b[0m\u001b[0;34m)\u001b[0m\u001b[0;34m\u001b[0m\u001b[0;34m\u001b[0m\u001b[0m\n",
            "\u001b[0;31mTypeError\u001b[0m: confusion_matrix() got an unexpected keyword argument 'target_names'"
          ]
        }
      ]
    },
    {
      "cell_type": "code",
      "source": [
        "vectorizer = CountVectorizer()\n",
        "x_train_vectorized = vectorizer.fit_transform(x_train['REVIEW_TEXT'])\n",
        "x_test_vectorized = vectorizer.transform(x_test['REVIEW_TEXT'])\n",
        "\n",
        "# Define and train the Multinomial Naive Bayes model\n",
        "model = MultinomialNB()\n",
        "model.fit(x_train_vectorized, y_train)\n",
        "\n",
        "# Predict on the test data\n",
        "pred = model.predict(x_test_vectorized)\n",
        "\n",
        "# Calculate metrics\n",
        "accuracy = accuracy_score(y_test, pred)\n",
        "report = classification_report(y_test, pred, target_names=['Fake', 'Real'])\n",
        "confusion_mat = confusion_matrix(y_test, pred)\n",
        "\n",
        "print(\"Accuracy:\", accuracy)\n",
        "print(\"Classification Report:\\n\", report)\n",
        "print(\"Confusion Matrix:\\n\", confusion_mat)\n",
        "\n",
        "# Draw ROC curve (assuming the draw_roc_curve function is defined)\n",
        "draw_roc_curve(y_test, pred, \"Multinomial NB\", c=\"blue\", line_width=1)"
      ],
      "metadata": {
        "colab": {
          "base_uri": "https://localhost:8080/",
          "height": 732
        },
        "id": "JKqurqc7bqMk",
        "outputId": "0c6f332d-a169-4d3c-c467-1bef0cf9d29b"
      },
      "execution_count": 82,
      "outputs": [
        {
          "output_type": "stream",
          "name": "stdout",
          "text": [
            "Accuracy: 0.6320634920634921\n",
            "Classification Report:\n",
            "               precision    recall  f1-score   support\n",
            "\n",
            "        Fake       0.62      0.71      0.66      3189\n",
            "        Real       0.65      0.56      0.60      3111\n",
            "\n",
            "    accuracy                           0.63      6300\n",
            "   macro avg       0.63      0.63      0.63      6300\n",
            "weighted avg       0.63      0.63      0.63      6300\n",
            "\n",
            "Confusion Matrix:\n",
            " [[2249  940]\n",
            " [1378 1733]]\n"
          ]
        },
        {
          "output_type": "display_data",
          "data": {
            "text/plain": [
              "<Figure size 640x480 with 1 Axes>"
            ],
            "image/png": "[encoded data removed]"
          },
          "metadata": {}
        },
        {
          "output_type": "stream",
          "name": "stdout",
          "text": [
            "\n"
          ]
        }
      ]
    }
  ]
}